{
 "cells": [
  {
   "cell_type": "code",
   "execution_count": 2,
   "metadata": {},
   "outputs": [
    {
     "data": {
      "text/html": [
       "\n",
       "    <div class=\"bk-root\">\n",
       "        <a href=\"http://bokeh.pydata.org\" target=\"_blank\" class=\"bk-logo bk-logo-small bk-logo-notebook\"></a>\n",
       "        <span id=\"b4bf7a6f-2496-45dc-ab6e-1ec019c0cf7a\">Loading BokehJS ...</span>\n",
       "    </div>"
      ]
     },
     "metadata": {},
     "output_type": "display_data"
    },
    {
     "data": {
      "application/javascript": [
       "\n",
       "(function(global) {\n",
       "  function now() {\n",
       "    return new Date();\n",
       "  }\n",
       "\n",
       "  var force = \"1\";\n",
       "\n",
       "  if (typeof (window._bokeh_onload_callbacks) === \"undefined\" || force !== \"\") {\n",
       "    window._bokeh_onload_callbacks = [];\n",
       "    window._bokeh_is_loading = undefined;\n",
       "  }\n",
       "\n",
       "  function run_callbacks() {\n",
       "    window._bokeh_onload_callbacks.forEach(function(callback) { callback() });\n",
       "    delete window._bokeh_onload_callbacks\n",
       "    console.info(\"Bokeh: all callbacks have finished\");\n",
       "  }\n",
       "\n",
       "  function load_libs(js_urls, callback) {\n",
       "    window._bokeh_onload_callbacks.push(callback);\n",
       "    if (window._bokeh_is_loading > 0) {\n",
       "      console.log(\"Bokeh: BokehJS is being loaded, scheduling callback at\", now());\n",
       "      return null;\n",
       "    }\n",
       "    if (js_urls == null || js_urls.length === 0) {\n",
       "      run_callbacks();\n",
       "      return null;\n",
       "    }\n",
       "    console.log(\"Bokeh: BokehJS not loaded, scheduling load and callback at\", now());\n",
       "    window._bokeh_is_loading = js_urls.length;\n",
       "    for (var i = 0; i < js_urls.length; i++) {\n",
       "      var url = js_urls[i];\n",
       "      var s = document.createElement('script');\n",
       "      s.src = url;\n",
       "      s.async = false;\n",
       "      s.onreadystatechange = s.onload = function() {\n",
       "        window._bokeh_is_loading--;\n",
       "        if (window._bokeh_is_loading === 0) {\n",
       "          console.log(\"Bokeh: all BokehJS libraries loaded\");\n",
       "          run_callbacks()\n",
       "        }\n",
       "      };\n",
       "      s.onerror = function() {\n",
       "        console.warn(\"failed to load library \" + url);\n",
       "      };\n",
       "      console.log(\"Bokeh: injecting script tag for BokehJS library: \", url);\n",
       "      document.getElementsByTagName(\"head\")[0].appendChild(s);\n",
       "    }\n",
       "  };\n",
       "\n",
       "  var js_urls = ['https://cdn.pydata.org/bokeh/release/bokeh-0.12.1.min.js', 'https://cdn.pydata.org/bokeh/release/bokeh-widgets-0.12.1.min.js', 'https://cdn.pydata.org/bokeh/release/bokeh-compiler-0.12.1.min.js'];\n",
       "\n",
       "  var inline_js = [\n",
       "    function(Bokeh) {\n",
       "      Bokeh.set_log_level(\"info\");\n",
       "    },\n",
       "    \n",
       "    function(Bokeh) {\n",
       "      \n",
       "      Bokeh.$(\"#b4bf7a6f-2496-45dc-ab6e-1ec019c0cf7a\").text(\"BokehJS successfully loaded\");\n",
       "      var kernel = Jupyter.notebook.kernel\n",
       "      if (kernel.execute !== undefined) {\n",
       "          kernel.execute(\"import bokeh.io; bokeh.io._nb_loaded = True\");\n",
       "      }\n",
       "    },\n",
       "    function(Bokeh) {\n",
       "      console.log(\"Bokeh: injecting CSS: https://cdn.pydata.org/bokeh/release/bokeh-0.12.1.min.css\");\n",
       "      Bokeh.embed.inject_css(\"https://cdn.pydata.org/bokeh/release/bokeh-0.12.1.min.css\");\n",
       "      console.log(\"Bokeh: injecting CSS: https://cdn.pydata.org/bokeh/release/bokeh-widgets-0.12.1.min.css\");\n",
       "      Bokeh.embed.inject_css(\"https://cdn.pydata.org/bokeh/release/bokeh-widgets-0.12.1.min.css\");\n",
       "    }\n",
       "  ];\n",
       "\n",
       "  function run_inline_js() {\n",
       "    for (var i = 0; i < inline_js.length; i++) {\n",
       "      inline_js[i](window.Bokeh);\n",
       "    }\n",
       "  }\n",
       "\n",
       "  if (window._bokeh_is_loading === 0) {\n",
       "    console.log(\"Bokeh: BokehJS loaded, going straight to plotting\");\n",
       "    run_inline_js();\n",
       "  } else {\n",
       "    load_libs(js_urls, function() {\n",
       "      console.log(\"Bokeh: BokehJS plotting callback run at\", now());\n",
       "      run_inline_js();\n",
       "    });\n",
       "  }\n",
       "}(this));"
      ]
     },
     "metadata": {},
     "output_type": "display_data"
    }
   ],
   "source": [
    "#encoding=utf-8\n",
    "import plotly.plotly as py\n",
    "import plotly.graph_objs as go\n",
    "import cufflinks as cf\n",
    "from bokeh.charts import Bar, output_file, show\n",
    "from bokeh.io import gridplot, output_file, show,output_notebook\n",
    "from bokeh.sampledata.autompg import autompg as df\n",
    "output_notebook()"
   ]
  },
  {
   "cell_type": "code",
   "execution_count": 3,
   "metadata": {
    "collapsed": true
   },
   "outputs": [],
   "source": [
    "import pandas as pd\n",
    "import numpy as np\n",
    "from collections import OrderedDict\n",
    "import seaborn as sns\n",
    "import matplotlib.pyplot as plt\n",
    "import re\n",
    "get_ipython().magic(u'matplotlib inline')\n",
    "sns.set_style('whitegrid') "
   ]
  },
  {
   "cell_type": "code",
   "execution_count": 4,
   "metadata": {
    "collapsed": true
   },
   "outputs": [],
   "source": [
    "def title_mode(x):\n",
    "    x = x.title()\n",
    "    return x"
   ]
  },
  {
   "cell_type": "code",
   "execution_count": 5,
   "metadata": {
    "collapsed": true
   },
   "outputs": [],
   "source": [
    "def group_job(frame,column):\n",
    "    df = column.to_frame()\n",
    "    frame_merge = pd.concat([frame,df],axis = 1)\n",
    "    return frame_merge"
   ]
  },
  {
   "cell_type": "code",
   "execution_count": 6,
   "metadata": {
    "collapsed": true
   },
   "outputs": [],
   "source": [
    "def code_filter(x,code_list,pattern_r,pattern_c):\n",
    "\n",
    "    count = 0\n",
    "    for each in code_list:\n",
    "        if each in x:\n",
    "            count += 1\n",
    "    \n",
    "    if len(re.findall(pattern_r,x))>0:\n",
    "        count +=1\n",
    "    \n",
    "    if len(re.findall(pattern_c,x))>0:\n",
    "        count +=1\n",
    "        \n",
    "    return count"
   ]
  },
  {
   "cell_type": "code",
   "execution_count": 7,
   "metadata": {
    "collapsed": true
   },
   "outputs": [],
   "source": [
    "def job_filter(x,job_list):\n",
    "   \n",
    "    count = 0\n",
    "    for each in job_list:\n",
    "        if each in x:\n",
    "            count += 1\n",
    "    return count"
   ]
  },
  {
   "cell_type": "code",
   "execution_count": 8,
   "metadata": {
    "collapsed": true
   },
   "outputs": [],
   "source": [
    "def code_recommend_dummy(column,code_list,pattern_r,pattern_c):\n",
    "    code_data = []\n",
    "    for i in column:\n",
    "        temp = OrderedDict()\n",
    "        for each in code_list: \n",
    "            if each in i:\n",
    "                temp[each] = 1\n",
    "            else:\n",
    "                temp[each] = 0\n",
    "                \n",
    "        if len(re.findall(pattern_r,i))>0:\n",
    "            temp['R'] = 1\n",
    "        else:\n",
    "            temp['R'] = 0\n",
    "    \n",
    "        if len(re.findall(pattern_c,i))>0:\n",
    "            temp['C'] = 1\n",
    "        else:\n",
    "            temp['C'] = 0\n",
    "\n",
    "        code_data.append(temp)\n",
    "    \n",
    "    code_frame = pd.DataFrame(code_data)\n",
    "    return code_frame"
   ]
  },
  {
   "cell_type": "code",
   "execution_count": 9,
   "metadata": {
    "collapsed": true
   },
   "outputs": [],
   "source": [
    "def job_recommend_dummy(column,job_list):\n",
    "    job_data = []\n",
    "    for i in column:\n",
    "        temp = OrderedDict()\n",
    "        for j in job_list: \n",
    "            if j in i:\n",
    "                temp[j] = 1\n",
    "            else:\n",
    "                temp[j] = 0\n",
    "                \n",
    "        job_data.append(temp)\n",
    "        \n",
    "    job_frame = pd.DataFrame(job_data)\n",
    "    return job_frame"
   ]
  },
  {
   "cell_type": "code",
   "execution_count": 10,
   "metadata": {
    "collapsed": true
   },
   "outputs": [],
   "source": [
    "def frame_mean(frame):\n",
    "    mean = frame.iloc[:].mean(axis=0)\n",
    "    mean_frame = pd.DataFrame(mean)\n",
    "    mean_frame.reset_index(inplace=True)\n",
    "    mean_frame.columns=['variable','mean']\n",
    "    mean_frame = mean_frame.sort_values(by='mean',ascending=False)\n",
    "    return mean_frame"
   ]
  },
  {
   "cell_type": "code",
   "execution_count": 11,
   "metadata": {
    "collapsed": true
   },
   "outputs": [],
   "source": [
    "code_list = ['Python','SPSS','SAS','Hadoop','Spark','Oracle','SQL','Java','C++','Javascript','Matlab',\n",
    "            'Linux','Hive','Spark','Unix','Tableau','Scala','Pig','MapReduce','Ruby','D3.js','MongoDB',\n",
    "            'Git','Theano','Caffe','Spotfire','Torch','Excel','Sqoop']\n",
    "\n",
    "# consider to use .title() or .lower()\n",
    "#'Tensorflow','NoSQL','MySQL'"
   ]
  },
  {
   "cell_type": "code",
   "execution_count": 12,
   "metadata": {},
   "outputs": [],
   "source": [
    "job_list = ['大數據','Crm','視覺化','巨量資料','顧客關係','演算法','機器學習','文字探勘','Nlp',\n",
    "           '文本探勘','Text Mining','Machine Learning','Deep Learning','深度學習','人工智慧','Artificial Intelligence',\n",
    "           '決策樹','Svm','A/B','推薦系統','Recommend','圖像','神經網絡','Pca','演算法','Neural Network','Social Network',\n",
    "           '巨量資料','Bi','Big Data','視覺化','統計','Algorithm','平行運算','分散式運算','資料分析',\n",
    "           '資料庫分析','數據分析','預測模型','資料採礦','資料探勘','Data Mining','建模',\n",
    "           '行銷分析','商機分析','Ml','Dm','資料科學']\n",
    "\n",
    "# '資料備援','資料倉儲','資料庫系統','資料庫架構','程式開發'"
   ]
  },
  {
   "cell_type": "code",
   "execution_count": 13,
   "metadata": {
    "collapsed": true
   },
   "outputs": [],
   "source": [
    "pattern_r = r'\\b[R]\\b[^#]'\n",
    "pattern_c = r'\\b[C]\\b[^#]'"
   ]
  },
  {
   "cell_type": "code",
   "execution_count": 14,
   "metadata": {},
   "outputs": [
    {
     "name": "stdout",
     "output_type": "stream",
     "text": [
      "data lenth: 2137\n",
      "data2 lenth: 2525\n"
     ]
    }
   ],
   "source": [
    "DATA_DIR = \"C:/Users/GN1504301/Desktop/\"\n",
    "data = pd.read_csv(DATA_DIR + \"m_0106.csv\",encoding='utf-8')\n",
    "data2 = pd.read_csv(DATA_DIR + \"m_1028.csv\",encoding='utf-8')\n",
    "print('data lenth:',len(data))\n",
    "print('data2 lenth:',len(data2))"
   ]
  },
  {
   "cell_type": "code",
   "execution_count": 15,
   "metadata": {},
   "outputs": [],
   "source": [
    "data['others'] = data['others'].astype(str)\n",
    "data['code_all'] = data['others'] + data['job_content'] + data['tools']\n",
    "data['code_title_mode'] = data['code_all'].apply(title_mode)\n",
    "\n",
    "data['code_dummy'] = data['code_all'].apply(lambda x:code_filter(x,code_list,pattern_r,pattern_c))\n",
    "data['job_dummy'] = data['code_title_mode'].apply(lambda x:job_filter(x,job_list))"
   ]
  },
  {
   "cell_type": "code",
   "execution_count": 16,
   "metadata": {},
   "outputs": [],
   "source": [
    "data_code = data[(data.code_dummy > 0)&(data.job_dummy > 0)]\n",
    "data_code.reset_index(inplace=True)"
   ]
  },
  {
   "cell_type": "code",
   "execution_count": 17,
   "metadata": {},
   "outputs": [
    {
     "name": "stdout",
     "output_type": "stream",
     "text": [
      "new data lenth: 630 diff: 1507\n"
     ]
    }
   ],
   "source": [
    "print('new data lenth:',len(data_code),'diff:',len(data)-len(data_code))"
   ]
  },
  {
   "cell_type": "code",
   "execution_count": 18,
   "metadata": {},
   "outputs": [],
   "source": [
    "code_frame = code_recommend_dummy(data_code['code_all'],code_list,pattern_r,pattern_c)\n",
    "job_frame = job_recommend_dummy(data_code['code_title_mode'],job_list)"
   ]
  },
  {
   "cell_type": "code",
   "execution_count": 19,
   "metadata": {
    "collapsed": true
   },
   "outputs": [],
   "source": [
    "group_DM = ['Data Mining','資料探勘','資料採礦','Dm']\n",
    "group_ML = ['Ml','Machine Learning','機器學習','決策樹','Svm']\n",
    "group_DL = ['Neural Network','神經網絡','Deep Learning','深度學習','圖像']\n",
    "group_text = ['文本探勘','文字探勘','Text Mining']"
   ]
  },
  {
   "cell_type": "code",
   "execution_count": 20,
   "metadata": {},
   "outputs": [],
   "source": [
    "job_frame['dm_dummy'] = job_frame[group_DM].max(axis=1)\n",
    "job_frame['ml_dummy'] = job_frame[group_ML].max(axis=1)\n",
    "job_frame['dl_dummy'] = job_frame[group_DL].max(axis=1)\n",
    "job_frame['text_dummy'] = job_frame[group_text].max(axis=1)"
   ]
  },
  {
   "cell_type": "code",
   "execution_count": 21,
   "metadata": {
    "collapsed": true
   },
   "outputs": [],
   "source": [
    "dm_job = group_job(code_frame,job_frame['dm_dummy'])\n",
    "ml_job = group_job(code_frame,job_frame['ml_dummy'])\n",
    "dl_job = group_job(code_frame,job_frame['dl_dummy'])\n",
    "text_job = group_job(code_frame,job_frame['text_dummy'])"
   ]
  },
  {
   "cell_type": "code",
   "execution_count": 22,
   "metadata": {},
   "outputs": [],
   "source": [
    "dm_mean = dm_job.groupby('dm_dummy').mean()\n",
    "dm_mean.reset_index(inplace=True)"
   ]
  },
  {
   "cell_type": "code",
   "execution_count": 23,
   "metadata": {},
   "outputs": [],
   "source": [
    "ml_mean = ml_job.groupby('ml_dummy').mean()\n",
    "ml_mean.reset_index(inplace=True)"
   ]
  },
  {
   "cell_type": "code",
   "execution_count": 24,
   "metadata": {
    "collapsed": true
   },
   "outputs": [],
   "source": [
    "dl_mean = dl_job.groupby('dl_dummy').mean()\n",
    "dl_mean.reset_index(inplace=True)"
   ]
  },
  {
   "cell_type": "code",
   "execution_count": 25,
   "metadata": {
    "collapsed": true
   },
   "outputs": [],
   "source": [
    "text_mean = text_job.groupby('text_dummy').mean()\n",
    "text_mean.reset_index(inplace=True)"
   ]
  },
  {
   "cell_type": "code",
   "execution_count": 36,
   "metadata": {},
   "outputs": [
    {
     "data": {
      "text/html": [
       "<div>\n",
       "<table border=\"1\" class=\"dataframe\">\n",
       "  <thead>\n",
       "    <tr style=\"text-align: right;\">\n",
       "      <th></th>\n",
       "      <th>dm_dummy</th>\n",
       "      <th>C</th>\n",
       "      <th>C++</th>\n",
       "      <th>Caffe</th>\n",
       "      <th>D3.js</th>\n",
       "      <th>Excel</th>\n",
       "      <th>Git</th>\n",
       "      <th>Hadoop</th>\n",
       "      <th>Hive</th>\n",
       "      <th>Java</th>\n",
       "      <th>...</th>\n",
       "      <th>SPSS</th>\n",
       "      <th>SQL</th>\n",
       "      <th>Scala</th>\n",
       "      <th>Spark</th>\n",
       "      <th>Spotfire</th>\n",
       "      <th>Sqoop</th>\n",
       "      <th>Tableau</th>\n",
       "      <th>Theano</th>\n",
       "      <th>Torch</th>\n",
       "      <th>Unix</th>\n",
       "    </tr>\n",
       "  </thead>\n",
       "  <tbody>\n",
       "    <tr>\n",
       "      <th>0</th>\n",
       "      <td>0</td>\n",
       "      <td>0.099609</td>\n",
       "      <td>0.093750</td>\n",
       "      <td>0.001953</td>\n",
       "      <td>0.009766</td>\n",
       "      <td>0.482422</td>\n",
       "      <td>0.017578</td>\n",
       "      <td>0.066406</td>\n",
       "      <td>0.019531</td>\n",
       "      <td>0.222656</td>\n",
       "      <td>...</td>\n",
       "      <td>0.091797</td>\n",
       "      <td>0.375000</td>\n",
       "      <td>0.021484</td>\n",
       "      <td>0.039062</td>\n",
       "      <td>0.005859</td>\n",
       "      <td>0.001953</td>\n",
       "      <td>0.029297</td>\n",
       "      <td>0.001953</td>\n",
       "      <td>0.001953</td>\n",
       "      <td>0.013672</td>\n",
       "    </tr>\n",
       "    <tr>\n",
       "      <th>1</th>\n",
       "      <td>1</td>\n",
       "      <td>0.152542</td>\n",
       "      <td>0.135593</td>\n",
       "      <td>0.000000</td>\n",
       "      <td>0.008475</td>\n",
       "      <td>0.194915</td>\n",
       "      <td>0.050847</td>\n",
       "      <td>0.144068</td>\n",
       "      <td>0.067797</td>\n",
       "      <td>0.415254</td>\n",
       "      <td>...</td>\n",
       "      <td>0.279661</td>\n",
       "      <td>0.635593</td>\n",
       "      <td>0.033898</td>\n",
       "      <td>0.093220</td>\n",
       "      <td>0.008475</td>\n",
       "      <td>0.000000</td>\n",
       "      <td>0.050847</td>\n",
       "      <td>0.000000</td>\n",
       "      <td>0.000000</td>\n",
       "      <td>0.008475</td>\n",
       "    </tr>\n",
       "  </tbody>\n",
       "</table>\n",
       "<p>2 rows × 31 columns</p>\n",
       "</div>"
      ],
      "text/plain": [
       "   dm_dummy         C       C++     Caffe     D3.js     Excel       Git  \\\n",
       "0         0  0.099609  0.093750  0.001953  0.009766  0.482422  0.017578   \n",
       "1         1  0.152542  0.135593  0.000000  0.008475  0.194915  0.050847   \n",
       "\n",
       "     Hadoop      Hive      Java    ...         SPSS       SQL     Scala  \\\n",
       "0  0.066406  0.019531  0.222656    ...     0.091797  0.375000  0.021484   \n",
       "1  0.144068  0.067797  0.415254    ...     0.279661  0.635593  0.033898   \n",
       "\n",
       "      Spark  Spotfire     Sqoop   Tableau    Theano     Torch      Unix  \n",
       "0  0.039062  0.005859  0.001953  0.029297  0.001953  0.001953  0.013672  \n",
       "1  0.093220  0.008475  0.000000  0.050847  0.000000  0.000000  0.008475  \n",
       "\n",
       "[2 rows x 31 columns]"
      ]
     },
     "execution_count": 36,
     "metadata": {},
     "output_type": "execute_result"
    }
   ],
   "source": [
    "dm_mean.to_csv(DATA_DIR +'dm_mean.csv',encoding='utf-8',index=None)\n",
    "dm_mean.head()"
   ]
  },
  {
   "cell_type": "code",
   "execution_count": 37,
   "metadata": {},
   "outputs": [
    {
     "data": {
      "text/html": [
       "<div>\n",
       "<table border=\"1\" class=\"dataframe\">\n",
       "  <thead>\n",
       "    <tr style=\"text-align: right;\">\n",
       "      <th></th>\n",
       "      <th>ml_dummy</th>\n",
       "      <th>C</th>\n",
       "      <th>C++</th>\n",
       "      <th>Caffe</th>\n",
       "      <th>D3.js</th>\n",
       "      <th>Excel</th>\n",
       "      <th>Git</th>\n",
       "      <th>Hadoop</th>\n",
       "      <th>Hive</th>\n",
       "      <th>Java</th>\n",
       "      <th>...</th>\n",
       "      <th>SPSS</th>\n",
       "      <th>SQL</th>\n",
       "      <th>Scala</th>\n",
       "      <th>Spark</th>\n",
       "      <th>Spotfire</th>\n",
       "      <th>Sqoop</th>\n",
       "      <th>Tableau</th>\n",
       "      <th>Theano</th>\n",
       "      <th>Torch</th>\n",
       "      <th>Unix</th>\n",
       "    </tr>\n",
       "  </thead>\n",
       "  <tbody>\n",
       "    <tr>\n",
       "      <th>0</th>\n",
       "      <td>0</td>\n",
       "      <td>0.082418</td>\n",
       "      <td>0.075092</td>\n",
       "      <td>0.000000</td>\n",
       "      <td>0.009158</td>\n",
       "      <td>0.483516</td>\n",
       "      <td>0.021978</td>\n",
       "      <td>0.051282</td>\n",
       "      <td>0.012821</td>\n",
       "      <td>0.203297</td>\n",
       "      <td>...</td>\n",
       "      <td>0.124542</td>\n",
       "      <td>0.412088</td>\n",
       "      <td>0.009158</td>\n",
       "      <td>0.023810</td>\n",
       "      <td>0.007326</td>\n",
       "      <td>0.000000</td>\n",
       "      <td>0.032967</td>\n",
       "      <td>0.000000</td>\n",
       "      <td>0.000000</td>\n",
       "      <td>0.010989</td>\n",
       "    </tr>\n",
       "    <tr>\n",
       "      <th>1</th>\n",
       "      <td>1</td>\n",
       "      <td>0.285714</td>\n",
       "      <td>0.273810</td>\n",
       "      <td>0.011905</td>\n",
       "      <td>0.011905</td>\n",
       "      <td>0.071429</td>\n",
       "      <td>0.035714</td>\n",
       "      <td>0.273810</td>\n",
       "      <td>0.130952</td>\n",
       "      <td>0.619048</td>\n",
       "      <td>...</td>\n",
       "      <td>0.142857</td>\n",
       "      <td>0.500000</td>\n",
       "      <td>0.119048</td>\n",
       "      <td>0.214286</td>\n",
       "      <td>0.000000</td>\n",
       "      <td>0.011905</td>\n",
       "      <td>0.035714</td>\n",
       "      <td>0.011905</td>\n",
       "      <td>0.011905</td>\n",
       "      <td>0.023810</td>\n",
       "    </tr>\n",
       "  </tbody>\n",
       "</table>\n",
       "<p>2 rows × 31 columns</p>\n",
       "</div>"
      ],
      "text/plain": [
       "   ml_dummy         C       C++     Caffe     D3.js     Excel       Git  \\\n",
       "0         0  0.082418  0.075092  0.000000  0.009158  0.483516  0.021978   \n",
       "1         1  0.285714  0.273810  0.011905  0.011905  0.071429  0.035714   \n",
       "\n",
       "     Hadoop      Hive      Java    ...         SPSS       SQL     Scala  \\\n",
       "0  0.051282  0.012821  0.203297    ...     0.124542  0.412088  0.009158   \n",
       "1  0.273810  0.130952  0.619048    ...     0.142857  0.500000  0.119048   \n",
       "\n",
       "      Spark  Spotfire     Sqoop   Tableau    Theano     Torch      Unix  \n",
       "0  0.023810  0.007326  0.000000  0.032967  0.000000  0.000000  0.010989  \n",
       "1  0.214286  0.000000  0.011905  0.035714  0.011905  0.011905  0.023810  \n",
       "\n",
       "[2 rows x 31 columns]"
      ]
     },
     "execution_count": 37,
     "metadata": {},
     "output_type": "execute_result"
    }
   ],
   "source": [
    "ml_mean.to_csv(DATA_DIR +'ml_mean.csv',encoding='utf-8',index=None)\n",
    "ml_mean.head()"
   ]
  },
  {
   "cell_type": "code",
   "execution_count": 38,
   "metadata": {},
   "outputs": [
    {
     "data": {
      "text/html": [
       "<div>\n",
       "<table border=\"1\" class=\"dataframe\">\n",
       "  <thead>\n",
       "    <tr style=\"text-align: right;\">\n",
       "      <th></th>\n",
       "      <th>dl_dummy</th>\n",
       "      <th>C</th>\n",
       "      <th>C++</th>\n",
       "      <th>Caffe</th>\n",
       "      <th>D3.js</th>\n",
       "      <th>Excel</th>\n",
       "      <th>Git</th>\n",
       "      <th>Hadoop</th>\n",
       "      <th>Hive</th>\n",
       "      <th>Java</th>\n",
       "      <th>...</th>\n",
       "      <th>SPSS</th>\n",
       "      <th>SQL</th>\n",
       "      <th>Scala</th>\n",
       "      <th>Spark</th>\n",
       "      <th>Spotfire</th>\n",
       "      <th>Sqoop</th>\n",
       "      <th>Tableau</th>\n",
       "      <th>Theano</th>\n",
       "      <th>Torch</th>\n",
       "      <th>Unix</th>\n",
       "    </tr>\n",
       "  </thead>\n",
       "  <tbody>\n",
       "    <tr>\n",
       "      <th>0</th>\n",
       "      <td>0</td>\n",
       "      <td>0.104746</td>\n",
       "      <td>0.096563</td>\n",
       "      <td>0.000000</td>\n",
       "      <td>0.00982</td>\n",
       "      <td>0.438625</td>\n",
       "      <td>0.022913</td>\n",
       "      <td>0.072013</td>\n",
       "      <td>0.026187</td>\n",
       "      <td>0.248773</td>\n",
       "      <td>...</td>\n",
       "      <td>0.126023</td>\n",
       "      <td>0.423895</td>\n",
       "      <td>0.022913</td>\n",
       "      <td>0.040917</td>\n",
       "      <td>0.006547</td>\n",
       "      <td>0.000000</td>\n",
       "      <td>0.03437</td>\n",
       "      <td>0.000000</td>\n",
       "      <td>0.000000</td>\n",
       "      <td>0.011457</td>\n",
       "    </tr>\n",
       "    <tr>\n",
       "      <th>1</th>\n",
       "      <td>1</td>\n",
       "      <td>0.263158</td>\n",
       "      <td>0.263158</td>\n",
       "      <td>0.052632</td>\n",
       "      <td>0.00000</td>\n",
       "      <td>0.105263</td>\n",
       "      <td>0.052632</td>\n",
       "      <td>0.368421</td>\n",
       "      <td>0.105263</td>\n",
       "      <td>0.578947</td>\n",
       "      <td>...</td>\n",
       "      <td>0.157895</td>\n",
       "      <td>0.421053</td>\n",
       "      <td>0.052632</td>\n",
       "      <td>0.315789</td>\n",
       "      <td>0.000000</td>\n",
       "      <td>0.052632</td>\n",
       "      <td>0.00000</td>\n",
       "      <td>0.052632</td>\n",
       "      <td>0.052632</td>\n",
       "      <td>0.052632</td>\n",
       "    </tr>\n",
       "  </tbody>\n",
       "</table>\n",
       "<p>2 rows × 31 columns</p>\n",
       "</div>"
      ],
      "text/plain": [
       "   dl_dummy         C       C++     Caffe    D3.js     Excel       Git  \\\n",
       "0         0  0.104746  0.096563  0.000000  0.00982  0.438625  0.022913   \n",
       "1         1  0.263158  0.263158  0.052632  0.00000  0.105263  0.052632   \n",
       "\n",
       "     Hadoop      Hive      Java    ...         SPSS       SQL     Scala  \\\n",
       "0  0.072013  0.026187  0.248773    ...     0.126023  0.423895  0.022913   \n",
       "1  0.368421  0.105263  0.578947    ...     0.157895  0.421053  0.052632   \n",
       "\n",
       "      Spark  Spotfire     Sqoop  Tableau    Theano     Torch      Unix  \n",
       "0  0.040917  0.006547  0.000000  0.03437  0.000000  0.000000  0.011457  \n",
       "1  0.315789  0.000000  0.052632  0.00000  0.052632  0.052632  0.052632  \n",
       "\n",
       "[2 rows x 31 columns]"
      ]
     },
     "execution_count": 38,
     "metadata": {},
     "output_type": "execute_result"
    }
   ],
   "source": [
    "dl_mean.to_csv(DATA_DIR +'dl_mean.csv',encoding='utf-8',index=None)\n",
    "dl_mean.head()"
   ]
  },
  {
   "cell_type": "code",
   "execution_count": 39,
   "metadata": {},
   "outputs": [
    {
     "data": {
      "text/html": [
       "<div>\n",
       "<table border=\"1\" class=\"dataframe\">\n",
       "  <thead>\n",
       "    <tr style=\"text-align: right;\">\n",
       "      <th></th>\n",
       "      <th>text_dummy</th>\n",
       "      <th>C</th>\n",
       "      <th>C++</th>\n",
       "      <th>Caffe</th>\n",
       "      <th>D3.js</th>\n",
       "      <th>Excel</th>\n",
       "      <th>Git</th>\n",
       "      <th>Hadoop</th>\n",
       "      <th>Hive</th>\n",
       "      <th>Java</th>\n",
       "      <th>...</th>\n",
       "      <th>SPSS</th>\n",
       "      <th>SQL</th>\n",
       "      <th>Scala</th>\n",
       "      <th>Spark</th>\n",
       "      <th>Spotfire</th>\n",
       "      <th>Sqoop</th>\n",
       "      <th>Tableau</th>\n",
       "      <th>Theano</th>\n",
       "      <th>Torch</th>\n",
       "      <th>Unix</th>\n",
       "    </tr>\n",
       "  </thead>\n",
       "  <tbody>\n",
       "    <tr>\n",
       "      <th>0</th>\n",
       "      <td>0</td>\n",
       "      <td>0.109299</td>\n",
       "      <td>0.099511</td>\n",
       "      <td>0.001631</td>\n",
       "      <td>0.009788</td>\n",
       "      <td>0.435563</td>\n",
       "      <td>0.021207</td>\n",
       "      <td>0.075041</td>\n",
       "      <td>0.024470</td>\n",
       "      <td>0.247961</td>\n",
       "      <td>...</td>\n",
       "      <td>0.119086</td>\n",
       "      <td>0.414356</td>\n",
       "      <td>0.021207</td>\n",
       "      <td>0.045677</td>\n",
       "      <td>0.006525</td>\n",
       "      <td>0.001631</td>\n",
       "      <td>0.032626</td>\n",
       "      <td>0.001631</td>\n",
       "      <td>0.001631</td>\n",
       "      <td>0.013051</td>\n",
       "    </tr>\n",
       "    <tr>\n",
       "      <th>1</th>\n",
       "      <td>1</td>\n",
       "      <td>0.117647</td>\n",
       "      <td>0.176471</td>\n",
       "      <td>0.000000</td>\n",
       "      <td>0.000000</td>\n",
       "      <td>0.176471</td>\n",
       "      <td>0.117647</td>\n",
       "      <td>0.294118</td>\n",
       "      <td>0.176471</td>\n",
       "      <td>0.647059</td>\n",
       "      <td>...</td>\n",
       "      <td>0.411765</td>\n",
       "      <td>0.764706</td>\n",
       "      <td>0.117647</td>\n",
       "      <td>0.176471</td>\n",
       "      <td>0.000000</td>\n",
       "      <td>0.000000</td>\n",
       "      <td>0.058824</td>\n",
       "      <td>0.000000</td>\n",
       "      <td>0.000000</td>\n",
       "      <td>0.000000</td>\n",
       "    </tr>\n",
       "  </tbody>\n",
       "</table>\n",
       "<p>2 rows × 31 columns</p>\n",
       "</div>"
      ],
      "text/plain": [
       "   text_dummy         C       C++     Caffe     D3.js     Excel       Git  \\\n",
       "0           0  0.109299  0.099511  0.001631  0.009788  0.435563  0.021207   \n",
       "1           1  0.117647  0.176471  0.000000  0.000000  0.176471  0.117647   \n",
       "\n",
       "     Hadoop      Hive      Java    ...         SPSS       SQL     Scala  \\\n",
       "0  0.075041  0.024470  0.247961    ...     0.119086  0.414356  0.021207   \n",
       "1  0.294118  0.176471  0.647059    ...     0.411765  0.764706  0.117647   \n",
       "\n",
       "      Spark  Spotfire     Sqoop   Tableau    Theano     Torch      Unix  \n",
       "0  0.045677  0.006525  0.001631  0.032626  0.001631  0.001631  0.013051  \n",
       "1  0.176471  0.000000  0.000000  0.058824  0.000000  0.000000  0.000000  \n",
       "\n",
       "[2 rows x 31 columns]"
      ]
     },
     "execution_count": 39,
     "metadata": {},
     "output_type": "execute_result"
    }
   ],
   "source": [
    "text_mean.to_csv(DATA_DIR +'text_mean.csv',encoding='utf-8',index=None)\n",
    "text_mean.head()"
   ]
  },
  {
   "cell_type": "code",
   "execution_count": 30,
   "metadata": {},
   "outputs": [],
   "source": [
    "code_mean = frame_mean(code_frame)\n",
    "job_mean = frame_mean(job_frame)"
   ]
  },
  {
   "cell_type": "code",
   "execution_count": 31,
   "metadata": {},
   "outputs": [
    {
     "data": {
      "image/png": "[encoded data removed]",
      "text/plain": [
       "<matplotlib.figure.Figure at 0xc627240>"
      ]
     },
     "metadata": {},
     "output_type": "display_data"
    }
   ],
   "source": [
    "fig, ax = plt.subplots(figsize=(15,15)) \n",
    "ax = sns.barplot(x='mean',y='variable',data = code_mean)"
   ]
  },
  {
   "cell_type": "code",
   "execution_count": 173,
   "metadata": {
    "collapsed": true
   },
   "outputs": [],
   "source": [
    "job_mean.to_csv(DATA_DIR+'job_mean.csv',encoding='utf-8')"
   ]
  },
  {
   "cell_type": "code",
   "execution_count": 32,
   "metadata": {},
   "outputs": [
    {
     "data": {
      "image/png": "[encoded data removed]",
      "text/plain": [
       "<matplotlib.figure.Figure at 0xc627dd8>"
      ]
     },
     "metadata": {},
     "output_type": "display_data"
    }
   ],
   "source": [
    "fig, ax = plt.subplots(figsize=(15,15))  \n",
    "ax = sns.barplot(x='mean',y='variable',data = job_mean)"
   ]
  },
  {
   "cell_type": "code",
   "execution_count": 345,
   "metadata": {},
   "outputs": [
    {
     "data": {
      "text/html": [
       "\n",
       "\n",
       "    <div class=\"bk-root\">\n",
       "        <div class=\"plotdiv\" id=\"e23010f6-64b2-4ebb-bc8b-67096c5f846c\"></div>\n",
       "    </div>\n",
       "<script type=\"text/javascript\">\n",
       "  \n",
       "  (function(global) {\n",
       "    function now() {\n",
       "      return new Date();\n",
       "    }\n",
       "  \n",
       "    var force = \"\";\n",
       "  \n",
       "    if (typeof (window._bokeh_onload_callbacks) === \"undefined\" || force !== \"\") {\n",
       "      window._bokeh_onload_callbacks = [];\n",
       "      window._bokeh_is_loading = undefined;\n",
       "    }\n",
       "  \n",
       "    function run_callbacks() {\n",
       "      window._bokeh_onload_callbacks.forEach(function(callback) { callback() });\n",
       "      delete window._bokeh_onload_callbacks\n",
       "      console.info(\"Bokeh: all callbacks have finished\");\n",
       "    }\n",
       "  \n",
       "    function load_libs(js_urls, callback) {\n",
       "      window._bokeh_onload_callbacks.push(callback);\n",
       "      if (window._bokeh_is_loading > 0) {\n",
       "        console.log(\"Bokeh: BokehJS is being loaded, scheduling callback at\", now());\n",
       "        return null;\n",
       "      }\n",
       "      if (js_urls == null || js_urls.length === 0) {\n",
       "        run_callbacks();\n",
       "        return null;\n",
       "      }\n",
       "      console.log(\"Bokeh: BokehJS not loaded, scheduling load and callback at\", now());\n",
       "      window._bokeh_is_loading = js_urls.length;\n",
       "      for (var i = 0; i < js_urls.length; i++) {\n",
       "        var url = js_urls[i];\n",
       "        var s = document.createElement('script');\n",
       "        s.src = url;\n",
       "        s.async = false;\n",
       "        s.onreadystatechange = s.onload = function() {\n",
       "          window._bokeh_is_loading--;\n",
       "          if (window._bokeh_is_loading === 0) {\n",
       "            console.log(\"Bokeh: all BokehJS libraries loaded\");\n",
       "            run_callbacks()\n",
       "          }\n",
       "        };\n",
       "        s.onerror = function() {\n",
       "          console.warn(\"failed to load library \" + url);\n",
       "        };\n",
       "        console.log(\"Bokeh: injecting script tag for BokehJS library: \", url);\n",
       "        document.getElementsByTagName(\"head\")[0].appendChild(s);\n",
       "      }\n",
       "    };var element = document.getElementById(\"e23010f6-64b2-4ebb-bc8b-67096c5f846c\");\n",
       "    if (element == null) {\n",
       "      console.log(\"Bokeh: ERROR: autoload.js configured with elementid 'e23010f6-64b2-4ebb-bc8b-67096c5f846c' but no matching script tag was found. \")\n",
       "      return false;\n",
       "    }\n",
       "  \n",
       "    var js_urls = [];\n",
       "  \n",
       "    var inline_js = [\n",
       "      function(Bokeh) {\n",
       "        Bokeh.$(function() {\n",
       "            var docs_json = {\"ec939ba2-5867-41bc-bf17-50db9dc749a7\":{\"roots\":{\"references\":[{\"attributes\":{\"fill_alpha\":{\"field\":\"fill_alpha\"},\"fill_color\":{\"field\":\"color\"},\"height\":{\"field\":\"height\",\"units\":\"data\"},\"line_color\":{\"field\":\"line_color\"},\"width\":{\"field\":\"width\",\"units\":\"data\"},\"x\":{\"field\":\"x\"},\"y\":{\"field\":\"y\"}},\"id\":\"6d2f942a-888a-4cbb-8b8e-7d477c405854\",\"type\":\"Rect\"},{\"attributes\":{\"fill_alpha\":{\"field\":\"fill_alpha\"},\"fill_color\":{\"field\":\"color\"},\"height\":{\"field\":\"height\",\"units\":\"data\"},\"line_color\":{\"field\":\"line_color\"},\"width\":{\"field\":\"width\",\"units\":\"data\"},\"x\":{\"field\":\"x\"},\"y\":{\"field\":\"y\"}},\"id\":\"d6bc2b36-43c4-4328-8649-772bd31104eb\",\"type\":\"Rect\"},{\"attributes\":{\"callback\":null,\"column_names\":[\"x\",\"label\",\"width\",\"fill_alpha\",\"y\",\"line_color\",\"height\",\"line_alpha\",\"color\"],\"data\":{\"chart_index\":[{\"variable\":\"\\u5927\\u6578\\u64da\"}],\"color\":[\"#f22c40\"],\"fill_alpha\":[0.8],\"height\":[0.1349206349206349],\"label\":[{\"variable\":\"\\u5927\\u6578\\u64da\"}],\"line_alpha\":[1.0],\"line_color\":[\"white\"],\"variable\":[\"\\u5927\\u6578\\u64da\"],\"width\":[0.8],\"x\":[\"\\u5927\\u6578\\u64da\"],\"y\":[0.06746031746031746]}},\"id\":\"9e21402a-dccb-4cb9-8d1f-92e6bdd4c34a\",\"type\":\"ColumnDataSource\"},{\"attributes\":{\"plot\":null,\"text\":\"Total MPG by CYL\"},\"id\":\"bcfaadd6-0da7-41ac-b198-c1be951ce246\",\"type\":\"Title\"},{\"attributes\":{\"callback\":null,\"column_names\":[\"x\",\"label\",\"width\",\"fill_alpha\",\"y\",\"line_color\",\"height\",\"line_alpha\",\"color\"],\"data\":{\"chart_index\":[{\"variable\":\"\\u6578\\u64da\\u5206\\u6790\"}],\"color\":[\"#f22c40\"],\"fill_alpha\":[0.8],\"height\":[0.22380952380952382],\"label\":[{\"variable\":\"\\u6578\\u64da\\u5206\\u6790\"}],\"line_alpha\":[1.0],\"line_color\":[\"white\"],\"variable\":[\"\\u6578\\u64da\\u5206\\u6790\"],\"width\":[0.8],\"x\":[\"\\u6578\\u64da\\u5206\\u6790\"],\"y\":[0.11190476190476191]}},\"id\":\"af7fa564-6b3d-46ff-9537-21e53b723950\",\"type\":\"ColumnDataSource\"},{\"attributes\":{\"callback\":null,\"column_names\":[\"x\",\"label\",\"width\",\"fill_alpha\",\"y\",\"line_color\",\"height\",\"line_alpha\",\"color\"],\"data\":{\"chart_index\":[{\"variable\":\"\\u9867\\u5ba2\\u95dc\\u4fc2\"}],\"color\":[\"#f22c40\"],\"fill_alpha\":[0.8],\"height\":[0.011111111111111112],\"label\":[{\"variable\":\"\\u9867\\u5ba2\\u95dc\\u4fc2\"}],\"line_alpha\":[1.0],\"line_color\":[\"white\"],\"variable\":[\"\\u9867\\u5ba2\\u95dc\\u4fc2\"],\"width\":[0.8],\"x\":[\"\\u9867\\u5ba2\\u95dc\\u4fc2\"],\"y\":[0.005555555555555556]}},\"id\":\"8cf3f854-53a0-45cc-a321-0254c42279dd\",\"type\":\"ColumnDataSource\"},{\"attributes\":{\"fill_alpha\":{\"field\":\"fill_alpha\"},\"fill_color\":{\"field\":\"color\"},\"height\":{\"field\":\"height\",\"units\":\"data\"},\"line_color\":{\"field\":\"line_color\"},\"width\":{\"field\":\"width\",\"units\":\"data\"},\"x\":{\"field\":\"x\"},\"y\":{\"field\":\"y\"}},\"id\":\"32a60f67-a63d-421a-bb15-dba3617ba4b9\",\"type\":\"Rect\"},{\"attributes\":{},\"id\":\"6765237a-933e-4d41-8a7b-2374f5835542\",\"type\":\"CategoricalTickFormatter\"},{\"attributes\":{\"callback\":null,\"column_names\":[\"x\",\"label\",\"width\",\"fill_alpha\",\"y\",\"line_color\",\"height\",\"line_alpha\",\"color\"],\"data\":{\"chart_index\":[{\"variable\":\"Recommend\"}],\"color\":[\"#f22c40\"],\"fill_alpha\":[0.8],\"height\":[0.0031746031746031746],\"label\":[{\"variable\":\"Recommend\"}],\"line_alpha\":[1.0],\"line_color\":[\"white\"],\"variable\":[\"Recommend\"],\"width\":[0.8],\"x\":[\"Recommend\"],\"y\":[0.0015873015873015873]}},\"id\":\"bf0fe337-f58f-41c1-b1b1-408b6bdef32a\",\"type\":\"ColumnDataSource\"},{\"attributes\":{\"callback\":null,\"column_names\":[\"x\",\"label\",\"width\",\"fill_alpha\",\"y\",\"line_color\",\"height\",\"line_alpha\",\"color\"],\"data\":{\"chart_index\":[{\"variable\":\"Dm\"}],\"color\":[\"#f22c40\"],\"fill_alpha\":[0.8],\"height\":[0.01746031746031746],\"label\":[{\"variable\":\"Dm\"}],\"line_alpha\":[1.0],\"line_color\":[\"white\"],\"variable\":[\"Dm\"],\"width\":[0.8],\"x\":[\"Dm\"],\"y\":[0.00873015873015873]}},\"id\":\"30f77d27-d685-4527-93de-f7cb0bbafdad\",\"type\":\"ColumnDataSource\"},{\"attributes\":{\"fill_alpha\":{\"field\":\"fill_alpha\"},\"fill_color\":{\"field\":\"color\"},\"height\":{\"field\":\"height\",\"units\":\"data\"},\"line_color\":{\"field\":\"line_color\"},\"width\":{\"field\":\"width\",\"units\":\"data\"},\"x\":{\"field\":\"x\"},\"y\":{\"field\":\"y\"}},\"id\":\"7ed821de-e898-4a20-af0d-92f528926ade\",\"type\":\"Rect\"},{\"attributes\":{\"fill_alpha\":{\"field\":\"fill_alpha\"},\"fill_color\":{\"field\":\"color\"},\"height\":{\"field\":\"height\",\"units\":\"data\"},\"line_color\":{\"field\":\"line_color\"},\"width\":{\"field\":\"width\",\"units\":\"data\"},\"x\":{\"field\":\"x\"},\"y\":{\"field\":\"y\"}},\"id\":\"8876ea1c-56ba-4cbd-b0be-ecf60388a984\",\"type\":\"Rect\"},{\"attributes\":{\"callback\":null,\"column_names\":[\"x\",\"label\",\"width\",\"fill_alpha\",\"y\",\"line_color\",\"height\",\"line_alpha\",\"color\"],\"data\":{\"chart_index\":[{\"variable\":\"Data Mining\"}],\"color\":[\"#f22c40\"],\"fill_alpha\":[0.8],\"height\":[0.12380952380952381],\"label\":[{\"variable\":\"Data Mining\"}],\"line_alpha\":[1.0],\"line_color\":[\"white\"],\"variable\":[\"Data Mining\"],\"width\":[0.8],\"x\":[\"Data Mining\"],\"y\":[0.06190476190476191]}},\"id\":\"b4a64525-2cda-4ee4-acee-f9cb0079b555\",\"type\":\"ColumnDataSource\"},{\"attributes\":{},\"id\":\"321e54e3-1806-4c60-882c-14432a78bb0e\",\"type\":\"BasicTickFormatter\"},{\"attributes\":{\"data_source\":{\"id\":\"46013bba-335c-4109-878a-25940763734f\",\"type\":\"ColumnDataSource\"},\"glyph\":{\"id\":\"d6bc2b36-43c4-4328-8649-772bd31104eb\",\"type\":\"Rect\"},\"hover_glyph\":null,\"nonselection_glyph\":null,\"selection_glyph\":null},\"id\":\"c5a72add-0c2c-4cae-a345-2ed15a680b5c\",\"type\":\"GlyphRenderer\"},{\"attributes\":{\"callback\":null,\"column_names\":[\"x\",\"label\",\"width\",\"fill_alpha\",\"y\",\"line_color\",\"height\",\"line_alpha\",\"color\"],\"data\":{\"chart_index\":[{\"variable\":\"Algorithm\"}],\"color\":[\"#f22c40\"],\"fill_alpha\":[0.8],\"height\":[0.01904761904761905],\"label\":[{\"variable\":\"Algorithm\"}],\"line_alpha\":[1.0],\"line_color\":[\"white\"],\"variable\":[\"Algorithm\"],\"width\":[0.8],\"x\":[\"Algorithm\"],\"y\":[0.009523809523809525]}},\"id\":\"d571dad3-d2ce-483e-ad2e-115a5f493486\",\"type\":\"ColumnDataSource\"},{\"attributes\":{\"data_source\":{\"id\":\"1d43e3ce-99ea-4ab4-a84c-3a170b418955\",\"type\":\"ColumnDataSource\"},\"glyph\":{\"id\":\"941a632b-8e4c-4b7e-b7c4-17a95dded0ab\",\"type\":\"Rect\"},\"hover_glyph\":null,\"nonselection_glyph\":null,\"selection_glyph\":null},\"id\":\"e23e5539-62ed-48c7-b9a9-c9a25ed2096e\",\"type\":\"GlyphRenderer\"},{\"attributes\":{\"data_source\":{\"id\":\"9e21402a-dccb-4cb9-8d1f-92e6bdd4c34a\",\"type\":\"ColumnDataSource\"},\"glyph\":{\"id\":\"e4833dfd-2474-4ca3-8885-e74a62a9784a\",\"type\":\"Rect\"},\"hover_glyph\":null,\"nonselection_glyph\":null,\"selection_glyph\":null},\"id\":\"9332f3d9-6d90-4e8c-a036-09f2b38a36d8\",\"type\":\"GlyphRenderer\"},{\"attributes\":{\"data_source\":{\"id\":\"11847e8b-37f8-4dd0-a022-655cde82dbd9\",\"type\":\"ColumnDataSource\"},\"glyph\":{\"id\":\"91fd220a-c0d1-4bdc-8faf-666b1656b323\",\"type\":\"Rect\"},\"hover_glyph\":null,\"nonselection_glyph\":null,\"selection_glyph\":null},\"id\":\"3153efc1-d707-4499-a3b1-d213697a14ac\",\"type\":\"GlyphRenderer\"},{\"attributes\":{\"data_source\":{\"id\":\"d9092bb4-f172-420f-9875-2a1d1bbc01b9\",\"type\":\"ColumnDataSource\"},\"glyph\":{\"id\":\"81002cef-fb68-471c-8489-3f4b8ba8c96b\",\"type\":\"Rect\"},\"hover_glyph\":null,\"nonselection_glyph\":null,\"selection_glyph\":null},\"id\":\"9248d5f1-23c0-43cd-abd8-082497b99233\",\"type\":\"GlyphRenderer\"},{\"attributes\":{\"callback\":null,\"column_names\":[\"x\",\"label\",\"width\",\"fill_alpha\",\"y\",\"line_color\",\"height\",\"line_alpha\",\"color\"],\"data\":{\"chart_index\":[{\"variable\":\"\\u795e\\u7d93\\u7db2\\u7d61\"}],\"color\":[\"#f22c40\"],\"fill_alpha\":[0.8],\"height\":[0.0],\"label\":[{\"variable\":\"\\u795e\\u7d93\\u7db2\\u7d61\"}],\"line_alpha\":[1.0],\"line_color\":[\"white\"],\"variable\":[\"\\u795e\\u7d93\\u7db2\\u7d61\"],\"width\":[0.8],\"x\":[\"\\u795e\\u7d93\\u7db2\\u7d61\"],\"y\":[0.0]}},\"id\":\"c81eee32-a361-42fc-b54a-e79919d024e0\",\"type\":\"ColumnDataSource\"},{\"attributes\":{\"fill_alpha\":{\"field\":\"fill_alpha\"},\"fill_color\":{\"field\":\"color\"},\"height\":{\"field\":\"height\",\"units\":\"data\"},\"line_color\":{\"field\":\"line_color\"},\"width\":{\"field\":\"width\",\"units\":\"data\"},\"x\":{\"field\":\"x\"},\"y\":{\"field\":\"y\"}},\"id\":\"37efb00a-fcc1-4805-80ee-c1d7ebbf7238\",\"type\":\"Rect\"},{\"attributes\":{\"data_source\":{\"id\":\"272e67c3-87df-4c3f-bddc-a9d1f935a173\",\"type\":\"ColumnDataSource\"},\"glyph\":{\"id\":\"216bbb12-3a5e-4ace-9358-d63f3f4b8899\",\"type\":\"Rect\"},\"hover_glyph\":null,\"nonselection_glyph\":null,\"selection_glyph\":null},\"id\":\"4b10d221-ce63-4121-ad5b-0ef5c5be0037\",\"type\":\"GlyphRenderer\"},{\"attributes\":{\"fill_alpha\":{\"field\":\"fill_alpha\"},\"fill_color\":{\"field\":\"color\"},\"height\":{\"field\":\"height\",\"units\":\"data\"},\"line_color\":{\"field\":\"line_color\"},\"width\":{\"field\":\"width\",\"units\":\"data\"},\"x\":{\"field\":\"x\"},\"y\":{\"field\":\"y\"}},\"id\":\"38b2593c-f1ee-4646-a8f4-1eaaf1cb1239\",\"type\":\"Rect\"},{\"attributes\":{\"callback\":null,\"column_names\":[\"x\",\"label\",\"width\",\"fill_alpha\",\"y\",\"line_color\",\"height\",\"line_alpha\",\"color\"],\"data\":{\"chart_index\":[{\"variable\":\"\\u8cc7\\u6599\\u63a1\\u7926\"}],\"color\":[\"#f22c40\"],\"fill_alpha\":[0.8],\"height\":[0.014285714285714285],\"label\":[{\"variable\":\"\\u8cc7\\u6599\\u63a1\\u7926\"}],\"line_alpha\":[1.0],\"line_color\":[\"white\"],\"variable\":[\"\\u8cc7\\u6599\\u63a1\\u7926\"],\"width\":[0.8],\"x\":[\"\\u8cc7\\u6599\\u63a1\\u7926\"],\"y\":[0.007142857142857143]}},\"id\":\"6ec4e490-71f5-4adb-b0a9-cbf34555d11b\",\"type\":\"ColumnDataSource\"},{\"attributes\":{\"fill_alpha\":{\"field\":\"fill_alpha\"},\"fill_color\":{\"field\":\"color\"},\"height\":{\"field\":\"height\",\"units\":\"data\"},\"line_color\":{\"field\":\"line_color\"},\"width\":{\"field\":\"width\",\"units\":\"data\"},\"x\":{\"field\":\"x\"},\"y\":{\"field\":\"y\"}},\"id\":\"937a4268-6b24-47f3-9daa-ead237354883\",\"type\":\"Rect\"},{\"attributes\":{\"fill_alpha\":{\"field\":\"fill_alpha\"},\"fill_color\":{\"field\":\"color\"},\"height\":{\"field\":\"height\",\"units\":\"data\"},\"line_color\":{\"field\":\"line_color\"},\"width\":{\"field\":\"width\",\"units\":\"data\"},\"x\":{\"field\":\"x\"},\"y\":{\"field\":\"y\"}},\"id\":\"fa29bf86-6942-450c-8f1e-7985ba8050cd\",\"type\":\"Rect\"},{\"attributes\":{\"data_source\":{\"id\":\"c16762b0-3b8f-4551-9fc0-f9d05dc33233\",\"type\":\"ColumnDataSource\"},\"glyph\":{\"id\":\"8876ea1c-56ba-4cbd-b0be-ecf60388a984\",\"type\":\"Rect\"},\"hover_glyph\":null,\"nonselection_glyph\":null,\"selection_glyph\":null},\"id\":\"4164760b-a0f1-4c39-a2eb-74ae68d50635\",\"type\":\"GlyphRenderer\"},{\"attributes\":{\"data_source\":{\"id\":\"fd98808a-0843-4502-96e6-332e5f2b988e\",\"type\":\"ColumnDataSource\"},\"glyph\":{\"id\":\"507e7209-91d2-4ff6-9b88-81ddc11fa0a0\",\"type\":\"Rect\"},\"hover_glyph\":null,\"nonselection_glyph\":null,\"selection_glyph\":null},\"id\":\"f59559db-c826-4a93-b70a-f8c46b463ea6\",\"type\":\"GlyphRenderer\"},{\"attributes\":{\"fill_alpha\":{\"field\":\"fill_alpha\"},\"fill_color\":{\"field\":\"color\"},\"height\":{\"field\":\"height\",\"units\":\"data\"},\"line_color\":{\"field\":\"line_color\"},\"width\":{\"field\":\"width\",\"units\":\"data\"},\"x\":{\"field\":\"x\"},\"y\":{\"field\":\"y\"}},\"id\":\"aba6915a-514f-4c2a-b63d-bb1a17de34fa\",\"type\":\"Rect\"},{\"attributes\":{\"callback\":null,\"column_names\":[\"x\",\"label\",\"width\",\"fill_alpha\",\"y\",\"line_color\",\"height\",\"line_alpha\",\"color\"],\"data\":{\"chart_index\":[{\"variable\":\"\\u5de8\\u91cf\\u8cc7\\u6599\"}],\"color\":[\"#f22c40\"],\"fill_alpha\":[0.8],\"height\":[0.06984126984126984],\"label\":[{\"variable\":\"\\u5de8\\u91cf\\u8cc7\\u6599\"}],\"line_alpha\":[1.0],\"line_color\":[\"white\"],\"variable\":[\"\\u5de8\\u91cf\\u8cc7\\u6599\"],\"width\":[0.8],\"x\":[\"\\u5de8\\u91cf\\u8cc7\\u6599\"],\"y\":[0.03492063492063492]}},\"id\":\"d9092bb4-f172-420f-9875-2a1d1bbc01b9\",\"type\":\"ColumnDataSource\"},{\"attributes\":{\"data_source\":{\"id\":\"658a3578-464d-4425-9eaf-29f2f9d20463\",\"type\":\"ColumnDataSource\"},\"glyph\":{\"id\":\"38be00d8-3008-4f4d-a121-073c80e73cfa\",\"type\":\"Rect\"},\"hover_glyph\":null,\"nonselection_glyph\":null,\"selection_glyph\":null},\"id\":\"e26d903c-6044-40b8-80aa-eb1ff51293bc\",\"type\":\"GlyphRenderer\"},{\"attributes\":{\"data_source\":{\"id\":\"a45fe1d2-3f5e-406f-924c-9716ef9da2bf\",\"type\":\"ColumnDataSource\"},\"glyph\":{\"id\":\"0677cdf5-d730-4620-8f38-e2aa5e41cebe\",\"type\":\"Rect\"},\"hover_glyph\":null,\"nonselection_glyph\":null,\"selection_glyph\":null},\"id\":\"faa720fc-6d2f-4305-af21-ba4882857a11\",\"type\":\"GlyphRenderer\"},{\"attributes\":{\"fill_alpha\":{\"field\":\"fill_alpha\"},\"fill_color\":{\"field\":\"color\"},\"height\":{\"field\":\"height\",\"units\":\"data\"},\"line_color\":{\"field\":\"line_color\"},\"width\":{\"field\":\"width\",\"units\":\"data\"},\"x\":{\"field\":\"x\"},\"y\":{\"field\":\"y\"}},\"id\":\"96364020-3cdf-4b15-8e03-47974c1714df\",\"type\":\"Rect\"},{\"attributes\":{\"axis_label\":\"Sum( Mean )\",\"formatter\":{\"id\":\"321e54e3-1806-4c60-882c-14432a78bb0e\",\"type\":\"BasicTickFormatter\"},\"plot\":{\"id\":\"ace47152-ccef-4692-af40-371a79ecc44e\",\"subtype\":\"Chart\",\"type\":\"Plot\"},\"ticker\":{\"id\":\"f7023193-5f13-4d72-a1cc-a79b1c233a2e\",\"type\":\"BasicTicker\"}},\"id\":\"1c8c5f8a-0588-42fc-9dde-3d9ecb36c2cf\",\"type\":\"LinearAxis\"},{\"attributes\":{\"dimension\":1,\"plot\":{\"id\":\"ace47152-ccef-4692-af40-371a79ecc44e\",\"subtype\":\"Chart\",\"type\":\"Plot\"},\"ticker\":{\"id\":\"f7023193-5f13-4d72-a1cc-a79b1c233a2e\",\"type\":\"BasicTicker\"}},\"id\":\"17815dca-6e0c-4dc5-a47e-849c463af6a4\",\"type\":\"Grid\"},{\"attributes\":{\"callback\":null,\"column_names\":[\"x\",\"label\",\"width\",\"fill_alpha\",\"y\",\"line_color\",\"height\",\"line_alpha\",\"color\"],\"data\":{\"chart_index\":[{\"variable\":\"\\u8996\\u89ba\\u5316\"}],\"color\":[\"#f22c40\"],\"fill_alpha\":[0.8],\"height\":[0.05873015873015873],\"label\":[{\"variable\":\"\\u8996\\u89ba\\u5316\"}],\"line_alpha\":[1.0],\"line_color\":[\"white\"],\"variable\":[\"\\u8996\\u89ba\\u5316\"],\"width\":[0.8],\"x\":[\"\\u8996\\u89ba\\u5316\"],\"y\":[0.029365079365079365]}},\"id\":\"2d9e3b0a-0343-45d4-b3cd-f64ca3ea3e51\",\"type\":\"ColumnDataSource\"},{\"attributes\":{\"data_source\":{\"id\":\"915fc27e-ba31-43a8-8d7a-6c2c36245257\",\"type\":\"ColumnDataSource\"},\"glyph\":{\"id\":\"fa29bf86-6942-450c-8f1e-7985ba8050cd\",\"type\":\"Rect\"},\"hover_glyph\":null,\"nonselection_glyph\":null,\"selection_glyph\":null},\"id\":\"76748de7-d683-4ee6-8dfe-c376bf9aa7b9\",\"type\":\"GlyphRenderer\"},{\"attributes\":{\"data_source\":{\"id\":\"d500bf30-4809-473d-be87-7bd467146d16\",\"type\":\"ColumnDataSource\"},\"glyph\":{\"id\":\"095cee47-4216-4e72-bb7d-c3470185af78\",\"type\":\"Rect\"},\"hover_glyph\":null,\"nonselection_glyph\":null,\"selection_glyph\":null},\"id\":\"f91c6913-cdd3-4c9e-8d35-a91f102d5342\",\"type\":\"GlyphRenderer\"},{\"attributes\":{\"callback\":null,\"column_names\":[\"x\",\"label\",\"width\",\"fill_alpha\",\"y\",\"line_color\",\"height\",\"line_alpha\",\"color\"],\"data\":{\"chart_index\":[{\"variable\":\"\\u8cc7\\u6599\\u63a2\\u52d8\"}],\"color\":[\"#f22c40\"],\"fill_alpha\":[0.8],\"height\":[0.06666666666666667],\"label\":[{\"variable\":\"\\u8cc7\\u6599\\u63a2\\u52d8\"}],\"line_alpha\":[1.0],\"line_color\":[\"white\"],\"variable\":[\"\\u8cc7\\u6599\\u63a2\\u52d8\"],\"width\":[0.8],\"x\":[\"\\u8cc7\\u6599\\u63a2\\u52d8\"],\"y\":[0.03333333333333333]}},\"id\":\"e97469e0-7d69-4b27-954e-52d902c1433d\",\"type\":\"ColumnDataSource\"},{\"attributes\":{\"callback\":null,\"column_names\":[\"x\",\"label\",\"width\",\"fill_alpha\",\"y\",\"line_color\",\"height\",\"line_alpha\",\"color\"],\"data\":{\"chart_index\":[{\"variable\":\"Ml\"}],\"color\":[\"#f22c40\"],\"fill_alpha\":[0.8],\"height\":[0.006349206349206349],\"label\":[{\"variable\":\"Ml\"}],\"line_alpha\":[1.0],\"line_color\":[\"white\"],\"variable\":[\"Ml\"],\"width\":[0.8],\"x\":[\"Ml\"],\"y\":[0.0031746031746031746]}},\"id\":\"d500bf30-4809-473d-be87-7bd467146d16\",\"type\":\"ColumnDataSource\"},{\"attributes\":{\"fill_alpha\":{\"field\":\"fill_alpha\"},\"fill_color\":{\"field\":\"color\"},\"height\":{\"field\":\"height\",\"units\":\"data\"},\"line_color\":{\"field\":\"line_color\"},\"width\":{\"field\":\"width\",\"units\":\"data\"},\"x\":{\"field\":\"x\"},\"y\":{\"field\":\"y\"}},\"id\":\"9e41ccf6-23e7-40bf-8580-2e5ad85e5f90\",\"type\":\"Rect\"},{\"attributes\":{\"callback\":null,\"column_names\":[\"x\",\"label\",\"width\",\"fill_alpha\",\"y\",\"line_color\",\"height\",\"line_alpha\",\"color\"],\"data\":{\"chart_index\":[{\"variable\":\"\\u9810\\u6e2c\\u6a21\\u578b\"}],\"color\":[\"#f22c40\"],\"fill_alpha\":[0.8],\"height\":[0.014285714285714285],\"label\":[{\"variable\":\"\\u9810\\u6e2c\\u6a21\\u578b\"}],\"line_alpha\":[1.0],\"line_color\":[\"white\"],\"variable\":[\"\\u9810\\u6e2c\\u6a21\\u578b\"],\"width\":[0.8],\"x\":[\"\\u9810\\u6e2c\\u6a21\\u578b\"],\"y\":[0.007142857142857143]}},\"id\":\"c234e92b-5528-42e4-a6e3-d80368e75511\",\"type\":\"ColumnDataSource\"},{\"attributes\":{\"fill_alpha\":{\"field\":\"fill_alpha\"},\"fill_color\":{\"field\":\"color\"},\"height\":{\"field\":\"height\",\"units\":\"data\"},\"line_color\":{\"field\":\"line_color\"},\"width\":{\"field\":\"width\",\"units\":\"data\"},\"x\":{\"field\":\"x\"},\"y\":{\"field\":\"y\"}},\"id\":\"c47604e4-84e2-426f-8409-485b8c0cb25f\",\"type\":\"Rect\"},{\"attributes\":{\"callback\":null,\"column_names\":[\"x\",\"label\",\"width\",\"fill_alpha\",\"y\",\"line_color\",\"height\",\"line_alpha\",\"color\"],\"data\":{\"chart_index\":[{\"variable\":\"\\u964d\\u7dad\"}],\"color\":[\"#f22c40\"],\"fill_alpha\":[0.8],\"height\":[0.0],\"label\":[{\"variable\":\"\\u964d\\u7dad\"}],\"line_alpha\":[1.0],\"line_color\":[\"white\"],\"variable\":[\"\\u964d\\u7dad\"],\"width\":[0.8],\"x\":[\"\\u964d\\u7dad\"],\"y\":[0.0]}},\"id\":\"26f5d704-4ade-41c1-b30d-5e1174c782bf\",\"type\":\"ColumnDataSource\"},{\"attributes\":{\"data_source\":{\"id\":\"23d4fadb-65bf-4061-ac0e-c271d2d50470\",\"type\":\"ColumnDataSource\"},\"glyph\":{\"id\":\"9e41ccf6-23e7-40bf-8580-2e5ad85e5f90\",\"type\":\"Rect\"},\"hover_glyph\":null,\"nonselection_glyph\":null,\"selection_glyph\":null},\"id\":\"0e102e87-c517-4718-be02-c943fafd702c\",\"type\":\"GlyphRenderer\"},{\"attributes\":{\"fill_alpha\":{\"field\":\"fill_alpha\"},\"fill_color\":{\"field\":\"color\"},\"height\":{\"field\":\"height\",\"units\":\"data\"},\"line_color\":{\"field\":\"line_color\"},\"width\":{\"field\":\"width\",\"units\":\"data\"},\"x\":{\"field\":\"x\"},\"y\":{\"field\":\"y\"}},\"id\":\"9f0d998d-3489-4882-bd82-c57d0ec53374\",\"type\":\"Rect\"},{\"attributes\":{\"fill_alpha\":{\"field\":\"fill_alpha\"},\"fill_color\":{\"field\":\"color\"},\"height\":{\"field\":\"height\",\"units\":\"data\"},\"line_color\":{\"field\":\"line_color\"},\"width\":{\"field\":\"width\",\"units\":\"data\"},\"x\":{\"field\":\"x\"},\"y\":{\"field\":\"y\"}},\"id\":\"ec2cd2a6-b253-4b9d-beb2-b49aa3f485a5\",\"type\":\"Rect\"},{\"attributes\":{\"data_source\":{\"id\":\"3d38c706-57d9-44ca-9724-88217ef5c6be\",\"type\":\"ColumnDataSource\"},\"glyph\":{\"id\":\"e42eb363-9f01-4522-90f8-7854cdbcb926\",\"type\":\"Rect\"},\"hover_glyph\":null,\"nonselection_glyph\":null,\"selection_glyph\":null},\"id\":\"3d46c1f3-0ed1-4f21-81a0-39c01e46632a\",\"type\":\"GlyphRenderer\"},{\"attributes\":{\"fill_alpha\":{\"field\":\"fill_alpha\"},\"fill_color\":{\"field\":\"color\"},\"height\":{\"field\":\"height\",\"units\":\"data\"},\"line_color\":{\"field\":\"line_color\"},\"width\":{\"field\":\"width\",\"units\":\"data\"},\"x\":{\"field\":\"x\"},\"y\":{\"field\":\"y\"}},\"id\":\"216bbb12-3a5e-4ace-9358-d63f3f4b8899\",\"type\":\"Rect\"},{\"attributes\":{\"fill_alpha\":{\"field\":\"fill_alpha\"},\"fill_color\":{\"field\":\"color\"},\"height\":{\"field\":\"height\",\"units\":\"data\"},\"line_color\":{\"field\":\"line_color\"},\"width\":{\"field\":\"width\",\"units\":\"data\"},\"x\":{\"field\":\"x\"},\"y\":{\"field\":\"y\"}},\"id\":\"846abc77-a6ba-4250-a46f-9adea90e7fd5\",\"type\":\"Rect\"},{\"attributes\":{\"callback\":null,\"column_names\":[\"x\",\"label\",\"width\",\"fill_alpha\",\"y\",\"line_color\",\"height\",\"line_alpha\",\"color\"],\"data\":{\"chart_index\":[{\"variable\":\"Artificial Intelligence\"}],\"color\":[\"#f22c40\"],\"fill_alpha\":[0.8],\"height\":[0.0015873015873015873],\"label\":[{\"variable\":\"Artificial Intelligence\"}],\"line_alpha\":[1.0],\"line_color\":[\"white\"],\"variable\":[\"Artificial Intelligence\"],\"width\":[0.8],\"x\":[\"Artificial Intelligence\"],\"y\":[0.0007936507936507937]}},\"id\":\"c749135e-95f4-4a36-beae-24b8b9b27345\",\"type\":\"ColumnDataSource\"},{\"attributes\":{\"callback\":null,\"column_names\":[\"x\",\"label\",\"width\",\"fill_alpha\",\"y\",\"line_color\",\"height\",\"line_alpha\",\"color\"],\"data\":{\"chart_index\":[{\"variable\":\"\\u884c\\u92b7\\u5206\\u6790\"}],\"color\":[\"#f22c40\"],\"fill_alpha\":[0.8],\"height\":[0.004761904761904762],\"label\":[{\"variable\":\"\\u884c\\u92b7\\u5206\\u6790\"}],\"line_alpha\":[1.0],\"line_color\":[\"white\"],\"variable\":[\"\\u884c\\u92b7\\u5206\\u6790\"],\"width\":[0.8],\"x\":[\"\\u884c\\u92b7\\u5206\\u6790\"],\"y\":[0.002380952380952381]}},\"id\":\"b416167c-6d03-4277-bc96-b4afcb4b0f02\",\"type\":\"ColumnDataSource\"},{\"attributes\":{\"data_source\":{\"id\":\"a626cac4-1d24-423d-955c-dab1e6e1c1f9\",\"type\":\"ColumnDataSource\"},\"glyph\":{\"id\":\"846abc77-a6ba-4250-a46f-9adea90e7fd5\",\"type\":\"Rect\"},\"hover_glyph\":null,\"nonselection_glyph\":null,\"selection_glyph\":null},\"id\":\"564de957-ba72-4038-af8a-92e4bb7758fe\",\"type\":\"GlyphRenderer\"},{\"attributes\":{\"fill_alpha\":{\"field\":\"fill_alpha\"},\"fill_color\":{\"field\":\"color\"},\"height\":{\"field\":\"height\",\"units\":\"data\"},\"line_color\":{\"field\":\"line_color\"},\"width\":{\"field\":\"width\",\"units\":\"data\"},\"x\":{\"field\":\"x\"},\"y\":{\"field\":\"y\"}},\"id\":\"91fd220a-c0d1-4bdc-8faf-666b1656b323\",\"type\":\"Rect\"},{\"attributes\":{\"callback\":null,\"column_names\":[\"x\",\"label\",\"width\",\"fill_alpha\",\"y\",\"line_color\",\"height\",\"line_alpha\",\"color\"],\"data\":{\"chart_index\":[{\"variable\":\"\\u6587\\u672c\\u63a2\\u52d8\"}],\"color\":[\"#f22c40\"],\"fill_alpha\":[0.8],\"height\":[0.0],\"label\":[{\"variable\":\"\\u6587\\u672c\\u63a2\\u52d8\"}],\"line_alpha\":[1.0],\"line_color\":[\"white\"],\"variable\":[\"\\u6587\\u672c\\u63a2\\u52d8\"],\"width\":[0.8],\"x\":[\"\\u6587\\u672c\\u63a2\\u52d8\"],\"y\":[0.0]}},\"id\":\"ee596435-0d78-4772-9d24-f7286a5ec05a\",\"type\":\"ColumnDataSource\"},{\"attributes\":{\"fill_alpha\":{\"field\":\"fill_alpha\"},\"fill_color\":{\"field\":\"color\"},\"height\":{\"field\":\"height\",\"units\":\"data\"},\"line_color\":{\"field\":\"line_color\"},\"width\":{\"field\":\"width\",\"units\":\"data\"},\"x\":{\"field\":\"x\"},\"y\":{\"field\":\"y\"}},\"id\":\"941a632b-8e4c-4b7e-b7c4-17a95dded0ab\",\"type\":\"Rect\"},{\"attributes\":{\"plot\":{\"id\":\"ace47152-ccef-4692-af40-371a79ecc44e\",\"subtype\":\"Chart\",\"type\":\"Plot\"}},\"id\":\"4ddfe492-8d82-4b13-af9f-3e43e7fcefb6\",\"type\":\"HelpTool\"},{\"attributes\":{\"callback\":null,\"column_names\":[\"x\",\"label\",\"width\",\"fill_alpha\",\"y\",\"line_color\",\"height\",\"line_alpha\",\"color\"],\"data\":{\"chart_index\":[{\"variable\":\"\\u6f14\\u7b97\\u6cd5\"}],\"color\":[\"#f22c40\"],\"fill_alpha\":[0.8],\"height\":[0.10158730158730159],\"label\":[{\"variable\":\"\\u6f14\\u7b97\\u6cd5\"}],\"line_alpha\":[1.0],\"line_color\":[\"white\"],\"variable\":[\"\\u6f14\\u7b97\\u6cd5\"],\"width\":[0.8],\"x\":[\"\\u6f14\\u7b97\\u6cd5\"],\"y\":[0.050793650793650794]}},\"id\":\"23d4fadb-65bf-4061-ac0e-c271d2d50470\",\"type\":\"ColumnDataSource\"},{\"attributes\":{\"plot\":{\"id\":\"ace47152-ccef-4692-af40-371a79ecc44e\",\"subtype\":\"Chart\",\"type\":\"Plot\"}},\"id\":\"659ce7e1-ed9f-40a6-b66d-c87a5ef62282\",\"type\":\"WheelZoomTool\"},{\"attributes\":{\"callback\":null,\"column_names\":[\"x\",\"label\",\"width\",\"fill_alpha\",\"y\",\"line_color\",\"height\",\"line_alpha\",\"color\"],\"data\":{\"chart_index\":[{\"variable\":\"Knn\"}],\"color\":[\"#f22c40\"],\"fill_alpha\":[0.8],\"height\":[0.0015873015873015873],\"label\":[{\"variable\":\"Knn\"}],\"line_alpha\":[1.0],\"line_color\":[\"white\"],\"variable\":[\"Knn\"],\"width\":[0.8],\"x\":[\"Knn\"],\"y\":[0.0007936507936507937]}},\"id\":\"9e943b6f-8a08-4fcb-94b5-55c936212bac\",\"type\":\"ColumnDataSource\"},{\"attributes\":{\"callback\":null,\"column_names\":[\"x\",\"label\",\"width\",\"fill_alpha\",\"y\",\"line_color\",\"height\",\"line_alpha\",\"color\"],\"data\":{\"chart_index\":[{\"variable\":\"Text Mining\"}],\"color\":[\"#f22c40\"],\"fill_alpha\":[0.8],\"height\":[0.01746031746031746],\"label\":[{\"variable\":\"Text Mining\"}],\"line_alpha\":[1.0],\"line_color\":[\"white\"],\"variable\":[\"Text Mining\"],\"width\":[0.8],\"x\":[\"Text Mining\"],\"y\":[0.00873015873015873]}},\"id\":\"dfb8c9e5-aafb-43c2-a842-d26a928a91f1\",\"type\":\"ColumnDataSource\"},{\"attributes\":{\"data_source\":{\"id\":\"dc397ac2-4706-447e-b34e-12ab95012091\",\"type\":\"ColumnDataSource\"},\"glyph\":{\"id\":\"b4fec4c3-362f-4d70-ae1f-0b78eb1471b8\",\"type\":\"Rect\"},\"hover_glyph\":null,\"nonselection_glyph\":null,\"selection_glyph\":null},\"id\":\"13b96924-04d9-4343-9273-f50ca1475426\",\"type\":\"GlyphRenderer\"},{\"attributes\":{\"data_source\":{\"id\":\"de4ea5bd-fc44-45ff-9c6d-99ec4d178658\",\"type\":\"ColumnDataSource\"},\"glyph\":{\"id\":\"32a60f67-a63d-421a-bb15-dba3617ba4b9\",\"type\":\"Rect\"},\"hover_glyph\":null,\"nonselection_glyph\":null,\"selection_glyph\":null},\"id\":\"b9e8b1fc-24f5-461d-a961-15d2d0df7d37\",\"type\":\"GlyphRenderer\"},{\"attributes\":{\"data_source\":{\"id\":\"b2b7e6c1-1e7e-4d48-ac32-bf8ad1584d1c\",\"type\":\"ColumnDataSource\"},\"glyph\":{\"id\":\"daa116b9-abc1-4618-aab0-7d1eb2d26bfa\",\"type\":\"Rect\"},\"hover_glyph\":null,\"nonselection_glyph\":null,\"selection_glyph\":null},\"id\":\"79972578-fbbc-4827-ab8e-7fa7f7a94b73\",\"type\":\"GlyphRenderer\"},{\"attributes\":{},\"id\":\"f7023193-5f13-4d72-a1cc-a79b1c233a2e\",\"type\":\"BasicTicker\"},{\"attributes\":{\"data_source\":{\"id\":\"ee596435-0d78-4772-9d24-f7286a5ec05a\",\"type\":\"ColumnDataSource\"},\"glyph\":{\"id\":\"7a047e5b-e3a6-4402-8ec7-776667c7ade4\",\"type\":\"Rect\"},\"hover_glyph\":null,\"nonselection_glyph\":null,\"selection_glyph\":null},\"id\":\"1f46d6fe-7438-465e-80f1-e0b331543633\",\"type\":\"GlyphRenderer\"},{\"attributes\":{\"fill_alpha\":{\"field\":\"fill_alpha\"},\"fill_color\":{\"field\":\"color\"},\"height\":{\"field\":\"height\",\"units\":\"data\"},\"line_color\":{\"field\":\"line_color\"},\"width\":{\"field\":\"width\",\"units\":\"data\"},\"x\":{\"field\":\"x\"},\"y\":{\"field\":\"y\"}},\"id\":\"3487536b-4fca-453f-b492-6520ddfcd76f\",\"type\":\"Rect\"},{\"attributes\":{\"data_source\":{\"id\":\"e97469e0-7d69-4b27-954e-52d902c1433d\",\"type\":\"ColumnDataSource\"},\"glyph\":{\"id\":\"e20493dc-6a96-42ac-82f4-13a25ac82536\",\"type\":\"Rect\"},\"hover_glyph\":null,\"nonselection_glyph\":null,\"selection_glyph\":null},\"id\":\"6acb5e52-4ef9-4a9d-8ef2-2967a0fa892c\",\"type\":\"GlyphRenderer\"},{\"attributes\":{\"fill_alpha\":{\"field\":\"fill_alpha\"},\"fill_color\":{\"field\":\"color\"},\"height\":{\"field\":\"height\",\"units\":\"data\"},\"line_color\":{\"field\":\"line_color\"},\"width\":{\"field\":\"width\",\"units\":\"data\"},\"x\":{\"field\":\"x\"},\"y\":{\"field\":\"y\"}},\"id\":\"81002cef-fb68-471c-8489-3f4b8ba8c96b\",\"type\":\"Rect\"},{\"attributes\":{\"plot\":{\"id\":\"ace47152-ccef-4692-af40-371a79ecc44e\",\"subtype\":\"Chart\",\"type\":\"Plot\"}},\"id\":\"0c729b84-cec2-47c3-99a9-467b62db92ba\",\"type\":\"ResetTool\"},{\"attributes\":{\"callback\":null,\"column_names\":[\"x\",\"label\",\"width\",\"fill_alpha\",\"y\",\"line_color\",\"height\",\"line_alpha\",\"color\"],\"data\":{\"chart_index\":[{\"variable\":\"Pca\"}],\"color\":[\"#f22c40\"],\"fill_alpha\":[0.8],\"height\":[0.0015873015873015873],\"label\":[{\"variable\":\"Pca\"}],\"line_alpha\":[1.0],\"line_color\":[\"white\"],\"variable\":[\"Pca\"],\"width\":[0.8],\"x\":[\"Pca\"],\"y\":[0.0007936507936507937]}},\"id\":\"2fcf8598-9366-475e-a250-716332c6177d\",\"type\":\"ColumnDataSource\"},{\"attributes\":{\"callback\":null,\"column_names\":[\"x\",\"label\",\"width\",\"fill_alpha\",\"y\",\"line_color\",\"height\",\"line_alpha\",\"color\"],\"data\":{\"chart_index\":[{\"variable\":\"\\u63a8\\u85a6\\u7cfb\\u7d71\"}],\"color\":[\"#f22c40\"],\"fill_alpha\":[0.8],\"height\":[0.006349206349206349],\"label\":[{\"variable\":\"\\u63a8\\u85a6\\u7cfb\\u7d71\"}],\"line_alpha\":[1.0],\"line_color\":[\"white\"],\"variable\":[\"\\u63a8\\u85a6\\u7cfb\\u7d71\"],\"width\":[0.8],\"x\":[\"\\u63a8\\u85a6\\u7cfb\\u7d71\"],\"y\":[0.0031746031746031746]}},\"id\":\"de4ea5bd-fc44-45ff-9c6d-99ec4d178658\",\"type\":\"ColumnDataSource\"},{\"attributes\":{\"plot\":{\"id\":\"ace47152-ccef-4692-af40-371a79ecc44e\",\"subtype\":\"Chart\",\"type\":\"Plot\"}},\"id\":\"32331e4d-fa05-4914-b036-7015fa0ffa8f\",\"type\":\"SaveTool\"},{\"attributes\":{\"fill_alpha\":{\"field\":\"fill_alpha\"},\"fill_color\":{\"field\":\"color\"},\"height\":{\"field\":\"height\",\"units\":\"data\"},\"line_color\":{\"field\":\"line_color\"},\"width\":{\"field\":\"width\",\"units\":\"data\"},\"x\":{\"field\":\"x\"},\"y\":{\"field\":\"y\"}},\"id\":\"1947c4f5-7368-4a43-bfec-ef0a6e1aa616\",\"type\":\"Rect\"},{\"attributes\":{\"data_source\":{\"id\":\"d20e880a-b1b5-4efb-a384-05ab4587a834\",\"type\":\"ColumnDataSource\"},\"glyph\":{\"id\":\"6d2f942a-888a-4cbb-8b8e-7d477c405854\",\"type\":\"Rect\"},\"hover_glyph\":null,\"nonselection_glyph\":null,\"selection_glyph\":null},\"id\":\"9674511c-9edf-4612-8418-0f9138f2d4d1\",\"type\":\"GlyphRenderer\"},{\"attributes\":{\"callback\":null,\"column_names\":[\"x\",\"label\",\"width\",\"fill_alpha\",\"y\",\"line_color\",\"height\",\"line_alpha\",\"color\"],\"data\":{\"chart_index\":[{\"variable\":\"Machine Learning\"}],\"color\":[\"#f22c40\"],\"fill_alpha\":[0.8],\"height\":[0.0761904761904762],\"label\":[{\"variable\":\"Machine Learning\"}],\"line_alpha\":[1.0],\"line_color\":[\"white\"],\"variable\":[\"Machine Learning\"],\"width\":[0.8],\"x\":[\"Machine Learning\"],\"y\":[0.0380952380952381]}},\"id\":\"a626cac4-1d24-423d-955c-dab1e6e1c1f9\",\"type\":\"ColumnDataSource\"},{\"attributes\":{\"fill_alpha\":{\"field\":\"fill_alpha\"},\"fill_color\":{\"field\":\"color\"},\"height\":{\"field\":\"height\",\"units\":\"data\"},\"line_color\":{\"field\":\"line_color\"},\"width\":{\"field\":\"width\",\"units\":\"data\"},\"x\":{\"field\":\"x\"},\"y\":{\"field\":\"y\"}},\"id\":\"daa116b9-abc1-4618-aab0-7d1eb2d26bfa\",\"type\":\"Rect\"},{\"attributes\":{\"callback\":null,\"end\":0.4483333333333333},\"id\":\"02a3874a-80cc-485d-a4a8-32b3a9d551ff\",\"type\":\"Range1d\"},{\"attributes\":{\"fill_alpha\":{\"field\":\"fill_alpha\"},\"fill_color\":{\"field\":\"color\"},\"height\":{\"field\":\"height\",\"units\":\"data\"},\"line_color\":{\"field\":\"line_color\"},\"width\":{\"field\":\"width\",\"units\":\"data\"},\"x\":{\"field\":\"x\"},\"y\":{\"field\":\"y\"}},\"id\":\"43126bc2-539d-4919-b411-dd92f5548e0a\",\"type\":\"Rect\"},{\"attributes\":{\"data_source\":{\"id\":\"c234e92b-5528-42e4-a6e3-d80368e75511\",\"type\":\"ColumnDataSource\"},\"glyph\":{\"id\":\"3773db13-b0d1-4f6a-ba9e-12167b26d7ea\",\"type\":\"Rect\"},\"hover_glyph\":null,\"nonselection_glyph\":null,\"selection_glyph\":null},\"id\":\"bc458a18-6ad3-4591-b6c3-ce78b402f12f\",\"type\":\"GlyphRenderer\"},{\"attributes\":{\"callback\":null,\"column_names\":[\"x\",\"label\",\"width\",\"fill_alpha\",\"y\",\"line_color\",\"height\",\"line_alpha\",\"color\"],\"data\":{\"chart_index\":[{\"variable\":\"\\u5e73\\u884c\\u904b\\u7b97\"}],\"color\":[\"#f22c40\"],\"fill_alpha\":[0.8],\"height\":[0.015873015873015872],\"label\":[{\"variable\":\"\\u5e73\\u884c\\u904b\\u7b97\"}],\"line_alpha\":[1.0],\"line_color\":[\"white\"],\"variable\":[\"\\u5e73\\u884c\\u904b\\u7b97\"],\"width\":[0.8],\"x\":[\"\\u5e73\\u884c\\u904b\\u7b97\"],\"y\":[0.007936507936507936]}},\"id\":\"3d38c706-57d9-44ca-9724-88217ef5c6be\",\"type\":\"ColumnDataSource\"},{\"attributes\":{\"fill_alpha\":{\"field\":\"fill_alpha\"},\"fill_color\":{\"field\":\"color\"},\"height\":{\"field\":\"height\",\"units\":\"data\"},\"line_color\":{\"field\":\"line_color\"},\"width\":{\"field\":\"width\",\"units\":\"data\"},\"x\":{\"field\":\"x\"},\"y\":{\"field\":\"y\"}},\"id\":\"38be00d8-3008-4f4d-a121-073c80e73cfa\",\"type\":\"Rect\"},{\"attributes\":{\"data_source\":{\"id\":\"d13ee6e3-c428-4a67-a24b-a783b797eaca\",\"type\":\"ColumnDataSource\"},\"glyph\":{\"id\":\"ec2cd2a6-b253-4b9d-beb2-b49aa3f485a5\",\"type\":\"Rect\"},\"hover_glyph\":null,\"nonselection_glyph\":null,\"selection_glyph\":null},\"id\":\"7b91260f-c29a-4012-b337-62442312ed0a\",\"type\":\"GlyphRenderer\"},{\"attributes\":{\"data_source\":{\"id\":\"89b78778-43c1-416a-88e1-8d8c5fb875c0\",\"type\":\"ColumnDataSource\"},\"glyph\":{\"id\":\"c47604e4-84e2-426f-8409-485b8c0cb25f\",\"type\":\"Rect\"},\"hover_glyph\":null,\"nonselection_glyph\":null,\"selection_glyph\":null},\"id\":\"f785ea7b-20b5-48de-8b68-2b140f386e9a\",\"type\":\"GlyphRenderer\"},{\"attributes\":{\"callback\":null,\"column_names\":[\"x\",\"label\",\"width\",\"fill_alpha\",\"y\",\"line_color\",\"height\",\"line_alpha\",\"color\"],\"data\":{\"chart_index\":[{\"variable\":\"Kmeans\"}],\"color\":[\"#f22c40\"],\"fill_alpha\":[0.8],\"height\":[0.0015873015873015873],\"label\":[{\"variable\":\"Kmeans\"}],\"line_alpha\":[1.0],\"line_color\":[\"white\"],\"variable\":[\"Kmeans\"],\"width\":[0.8],\"x\":[\"Kmeans\"],\"y\":[0.0007936507936507937]}},\"id\":\"11847e8b-37f8-4dd0-a022-655cde82dbd9\",\"type\":\"ColumnDataSource\"},{\"attributes\":{\"data_source\":{\"id\":\"30f77d27-d685-4527-93de-f7cb0bbafdad\",\"type\":\"ColumnDataSource\"},\"glyph\":{\"id\":\"aed122c2-215f-4c43-81aa-05b281825e0f\",\"type\":\"Rect\"},\"hover_glyph\":null,\"nonselection_glyph\":null,\"selection_glyph\":null},\"id\":\"f175310d-f9c2-4b62-b045-067f11dc97b6\",\"type\":\"GlyphRenderer\"},{\"attributes\":{\"callback\":null,\"column_names\":[\"x\",\"label\",\"width\",\"fill_alpha\",\"y\",\"line_color\",\"height\",\"line_alpha\",\"color\"],\"data\":{\"chart_index\":[{\"variable\":\"\\u8cc7\\u6599\\u5eab\\u5206\\u6790\"}],\"color\":[\"#f22c40\"],\"fill_alpha\":[0.8],\"height\":[0.04126984126984127],\"label\":[{\"variable\":\"\\u8cc7\\u6599\\u5eab\\u5206\\u6790\"}],\"line_alpha\":[1.0],\"line_color\":[\"white\"],\"variable\":[\"\\u8cc7\\u6599\\u5eab\\u5206\\u6790\"],\"width\":[0.8],\"x\":[\"\\u8cc7\\u6599\\u5eab\\u5206\\u6790\"],\"y\":[0.020634920634920634]}},\"id\":\"89b78778-43c1-416a-88e1-8d8c5fb875c0\",\"type\":\"ColumnDataSource\"},{\"attributes\":{\"fill_alpha\":{\"field\":\"fill_alpha\"},\"fill_color\":{\"field\":\"color\"},\"height\":{\"field\":\"height\",\"units\":\"data\"},\"line_color\":{\"field\":\"line_color\"},\"width\":{\"field\":\"width\",\"units\":\"data\"},\"x\":{\"field\":\"x\"},\"y\":{\"field\":\"y\"}},\"id\":\"aed122c2-215f-4c43-81aa-05b281825e0f\",\"type\":\"Rect\"},{\"attributes\":{\"overlay\":{\"id\":\"bafac01b-6afc-4322-b3bf-50f722e491b7\",\"type\":\"BoxAnnotation\"},\"plot\":{\"id\":\"ace47152-ccef-4692-af40-371a79ecc44e\",\"subtype\":\"Chart\",\"type\":\"Plot\"}},\"id\":\"d1f9cf02-94df-4c67-a3a9-b323ea955cbb\",\"type\":\"BoxZoomTool\"},{\"attributes\":{},\"id\":\"74af7656-42a8-4e93-a2c7-54709ef91f28\",\"type\":\"CategoricalTicker\"},{\"attributes\":{\"data_source\":{\"id\":\"d571dad3-d2ce-483e-ad2e-115a5f493486\",\"type\":\"ColumnDataSource\"},\"glyph\":{\"id\":\"dd9387b6-67be-4b52-b8d2-e2388b7978bd\",\"type\":\"Rect\"},\"hover_glyph\":null,\"nonselection_glyph\":null,\"selection_glyph\":null},\"id\":\"3854a63e-629a-4763-8f84-3aa7c0bbac6e\",\"type\":\"GlyphRenderer\"},{\"attributes\":{\"callback\":null,\"column_names\":[\"x\",\"label\",\"width\",\"fill_alpha\",\"y\",\"line_color\",\"height\",\"line_alpha\",\"color\"],\"data\":{\"chart_index\":[{\"variable\":\"\\u6a5f\\u5668\\u5b78\\u7fd2\"}],\"color\":[\"#f22c40\"],\"fill_alpha\":[0.8],\"height\":[0.08253968253968254],\"label\":[{\"variable\":\"\\u6a5f\\u5668\\u5b78\\u7fd2\"}],\"line_alpha\":[1.0],\"line_color\":[\"white\"],\"variable\":[\"\\u6a5f\\u5668\\u5b78\\u7fd2\"],\"width\":[0.8],\"x\":[\"\\u6a5f\\u5668\\u5b78\\u7fd2\"],\"y\":[0.04126984126984127]}},\"id\":\"d13ee6e3-c428-4a67-a24b-a783b797eaca\",\"type\":\"ColumnDataSource\"},{\"attributes\":{\"callback\":null,\"factors\":[\"A/B\",\"Algorithm\",\"Artificial Intelligence\",\"Bi\",\"Big Data\",\"Crm\",\"Data Mining\",\"Decision Tree\",\"Deep Learning\",\"Dm\",\"Kmeans\",\"Knn\",\"Machine Learning\",\"Ml\",\"Nlp\",\"Pca\",\"Recommend\",\"Svm\",\"Text Mining\",\"\\u4eba\\u5de5\\u667a\\u6167\",\"\\u5206\\u6563\\u5f0f\\u904b\\u7b97\",\"\\u5546\\u6a5f\\u5206\\u6790\",\"\\u5716\\u50cf\",\"\\u5927\\u6578\\u64da\",\"\\u5de8\\u91cf\\u8cc7\\u6599\",\"\\u5e73\\u884c\\u904b\\u7b97\",\"\\u5efa\\u6a21\",\"\\u63a8\\u85a6\\u7cfb\\u7d71\",\"\\u6578\\u64da\\u5206\\u6790\",\"\\u6587\\u5b57\\u63a2\\u52d8\",\"\\u6587\\u672c\\u63a2\\u52d8\",\"\\u6a5f\\u5668\\u5b78\\u7fd2\",\"\\u6c7a\\u7b56\\u6a39\",\"\\u6df1\\u5ea6\\u5b78\\u7fd2\",\"\\u6f14\\u7b97\\u6cd5\",\"\\u795e\\u7d93\\u7db2\\u7d61\",\"\\u7d71\\u8a08\",\"\\u884c\\u92b7\\u5206\\u6790\",\"\\u8996\\u89ba\\u5316\",\"\\u8cc7\\u6599\\u5206\\u6790\",\"\\u8cc7\\u6599\\u5eab\\u5206\\u6790\",\"\\u8cc7\\u6599\\u63a1\\u7926\",\"\\u8cc7\\u6599\\u63a2\\u52d8\",\"\\u8cc7\\u6599\\u79d1\\u5b78\",\"\\u964d\\u7dad\",\"\\u9810\\u6e2c\\u6a21\\u578b\",\"\\u9867\\u5ba2\\u95dc\\u4fc2\"]},\"id\":\"76fef79c-6658-45ec-a07b-262e6388064f\",\"type\":\"FactorRange\"},{\"attributes\":{\"data_source\":{\"id\":\"b4a64525-2cda-4ee4-acee-f9cb0079b555\",\"type\":\"ColumnDataSource\"},\"glyph\":{\"id\":\"aba6915a-514f-4c2a-b63d-bb1a17de34fa\",\"type\":\"Rect\"},\"hover_glyph\":null,\"nonselection_glyph\":null,\"selection_glyph\":null},\"id\":\"818a548e-3b7b-41f3-a683-06cfec107f6e\",\"type\":\"GlyphRenderer\"},{\"attributes\":{\"data_source\":{\"id\":\"c749135e-95f4-4a36-beae-24b8b9b27345\",\"type\":\"ColumnDataSource\"},\"glyph\":{\"id\":\"72fc3089-081b-4554-a3e6-ec3944d6999f\",\"type\":\"Rect\"},\"hover_glyph\":null,\"nonselection_glyph\":null,\"selection_glyph\":null},\"id\":\"08f082d7-64d4-433b-807a-59b7e7fccb7a\",\"type\":\"GlyphRenderer\"},{\"attributes\":{\"callback\":null,\"column_names\":[\"x\",\"label\",\"width\",\"fill_alpha\",\"y\",\"line_color\",\"height\",\"line_alpha\",\"color\"],\"data\":{\"chart_index\":[{\"variable\":\"\\u5716\\u50cf\"}],\"color\":[\"#f22c40\"],\"fill_alpha\":[0.8],\"height\":[0.012698412698412698],\"label\":[{\"variable\":\"\\u5716\\u50cf\"}],\"line_alpha\":[1.0],\"line_color\":[\"white\"],\"variable\":[\"\\u5716\\u50cf\"],\"width\":[0.8],\"x\":[\"\\u5716\\u50cf\"],\"y\":[0.006349206349206349]}},\"id\":\"b2b7e6c1-1e7e-4d48-ac32-bf8ad1584d1c\",\"type\":\"ColumnDataSource\"},{\"attributes\":{\"callback\":null,\"column_names\":[\"x\",\"label\",\"width\",\"fill_alpha\",\"y\",\"line_color\",\"height\",\"line_alpha\",\"color\"],\"data\":{\"chart_index\":[{\"variable\":\"\\u6c7a\\u7b56\\u6a39\"}],\"color\":[\"#f22c40\"],\"fill_alpha\":[0.8],\"height\":[0.0],\"label\":[{\"variable\":\"\\u6c7a\\u7b56\\u6a39\"}],\"line_alpha\":[1.0],\"line_color\":[\"white\"],\"variable\":[\"\\u6c7a\\u7b56\\u6a39\"],\"width\":[0.8],\"x\":[\"\\u6c7a\\u7b56\\u6a39\"],\"y\":[0.0]}},\"id\":\"e2018b39-4a89-48d4-834e-ac5e2ba09152\",\"type\":\"ColumnDataSource\"},{\"attributes\":{\"fill_alpha\":{\"field\":\"fill_alpha\"},\"fill_color\":{\"field\":\"color\"},\"height\":{\"field\":\"height\",\"units\":\"data\"},\"line_color\":{\"field\":\"line_color\"},\"width\":{\"field\":\"width\",\"units\":\"data\"},\"x\":{\"field\":\"x\"},\"y\":{\"field\":\"y\"}},\"id\":\"095cee47-4216-4e72-bb7d-c3470185af78\",\"type\":\"Rect\"},{\"attributes\":{\"fill_alpha\":{\"field\":\"fill_alpha\"},\"fill_color\":{\"field\":\"color\"},\"height\":{\"field\":\"height\",\"units\":\"data\"},\"line_color\":{\"field\":\"line_color\"},\"width\":{\"field\":\"width\",\"units\":\"data\"},\"x\":{\"field\":\"x\"},\"y\":{\"field\":\"y\"}},\"id\":\"e20493dc-6a96-42ac-82f4-13a25ac82536\",\"type\":\"Rect\"},{\"attributes\":{\"callback\":null,\"column_names\":[\"x\",\"label\",\"width\",\"fill_alpha\",\"y\",\"line_color\",\"height\",\"line_alpha\",\"color\"],\"data\":{\"chart_index\":[{\"variable\":\"Crm\"}],\"color\":[\"#f22c40\"],\"fill_alpha\":[0.8],\"height\":[0.05714285714285714],\"label\":[{\"variable\":\"Crm\"}],\"line_alpha\":[1.0],\"line_color\":[\"white\"],\"variable\":[\"Crm\"],\"width\":[0.8],\"x\":[\"Crm\"],\"y\":[0.02857142857142857]}},\"id\":\"272e67c3-87df-4c3f-bddc-a9d1f935a173\",\"type\":\"ColumnDataSource\"},{\"attributes\":{\"callback\":null,\"column_names\":[\"x\",\"label\",\"width\",\"fill_alpha\",\"y\",\"line_color\",\"height\",\"line_alpha\",\"color\"],\"data\":{\"chart_index\":[{\"variable\":\"\\u5206\\u6563\\u5f0f\\u904b\\u7b97\"}],\"color\":[\"#f22c40\"],\"fill_alpha\":[0.8],\"height\":[0.022222222222222223],\"label\":[{\"variable\":\"\\u5206\\u6563\\u5f0f\\u904b\\u7b97\"}],\"line_alpha\":[1.0],\"line_color\":[\"white\"],\"variable\":[\"\\u5206\\u6563\\u5f0f\\u904b\\u7b97\"],\"width\":[0.8],\"x\":[\"\\u5206\\u6563\\u5f0f\\u904b\\u7b97\"],\"y\":[0.011111111111111112]}},\"id\":\"0601989f-8b4b-475f-ab8e-188c37808258\",\"type\":\"ColumnDataSource\"},{\"attributes\":{\"below\":[{\"id\":\"d5b51aa0-8f94-429c-bbb7-d0211c7415dc\",\"type\":\"CategoricalAxis\"}],\"left\":[{\"id\":\"1c8c5f8a-0588-42fc-9dde-3d9ecb36c2cf\",\"type\":\"LinearAxis\"}],\"plot_height\":300,\"plot_width\":2000,\"renderers\":[{\"id\":\"bafac01b-6afc-4322-b3bf-50f722e491b7\",\"type\":\"BoxAnnotation\"},{\"id\":\"96e8b476-f03b-4caa-80a8-2f7b378c8b33\",\"type\":\"GlyphRenderer\"},{\"id\":\"4164760b-a0f1-4c39-a2eb-74ae68d50635\",\"type\":\"GlyphRenderer\"},{\"id\":\"bd9d3ef0-fdfe-417c-aaf8-475ce03e0cf2\",\"type\":\"GlyphRenderer\"},{\"id\":\"76748de7-d683-4ee6-8dfe-c376bf9aa7b9\",\"type\":\"GlyphRenderer\"},{\"id\":\"9332f3d9-6d90-4e8c-a036-09f2b38a36d8\",\"type\":\"GlyphRenderer\"},{\"id\":\"818a548e-3b7b-41f3-a683-06cfec107f6e\",\"type\":\"GlyphRenderer\"},{\"id\":\"0e102e87-c517-4718-be02-c943fafd702c\",\"type\":\"GlyphRenderer\"},{\"id\":\"aa3467df-9cfa-49bc-a8e5-cef2a2e77184\",\"type\":\"GlyphRenderer\"},{\"id\":\"7b91260f-c29a-4012-b337-62442312ed0a\",\"type\":\"GlyphRenderer\"},{\"id\":\"564de957-ba72-4038-af8a-92e4bb7758fe\",\"type\":\"GlyphRenderer\"},{\"id\":\"9248d5f1-23c0-43cd-abd8-082497b99233\",\"type\":\"GlyphRenderer\"},{\"id\":\"6acb5e52-4ef9-4a9d-8ef2-2967a0fa892c\",\"type\":\"GlyphRenderer\"},{\"id\":\"5b0db3c2-a791-424e-ace6-bc5a74cf0650\",\"type\":\"GlyphRenderer\"},{\"id\":\"4b10d221-ce63-4121-ad5b-0ef5c5be0037\",\"type\":\"GlyphRenderer\"},{\"id\":\"faa720fc-6d2f-4305-af21-ba4882857a11\",\"type\":\"GlyphRenderer\"},{\"id\":\"f785ea7b-20b5-48de-8b68-2b140f386e9a\",\"type\":\"GlyphRenderer\"},{\"id\":\"9674511c-9edf-4612-8418-0f9138f2d4d1\",\"type\":\"GlyphRenderer\"},{\"id\":\"e19d9b3a-2c4e-47c8-ac05-c97a5adaed18\",\"type\":\"GlyphRenderer\"},{\"id\":\"f59559db-c826-4a93-b70a-f8c46b463ea6\",\"type\":\"GlyphRenderer\"},{\"id\":\"3854a63e-629a-4763-8f84-3aa7c0bbac6e\",\"type\":\"GlyphRenderer\"},{\"id\":\"f175310d-f9c2-4b62-b045-067f11dc97b6\",\"type\":\"GlyphRenderer\"},{\"id\":\"30116872-edd3-4bb1-b138-a1839a3eb71b\",\"type\":\"GlyphRenderer\"},{\"id\":\"3d46c1f3-0ed1-4f21-81a0-39c01e46632a\",\"type\":\"GlyphRenderer\"},{\"id\":\"bc458a18-6ad3-4591-b6c3-ce78b402f12f\",\"type\":\"GlyphRenderer\"},{\"id\":\"4a4e383a-1e44-4cb7-99b2-3fbf23e326d4\",\"type\":\"GlyphRenderer\"},{\"id\":\"0ba6ee61-df64-424d-8513-02615a339a92\",\"type\":\"GlyphRenderer\"},{\"id\":\"79972578-fbbc-4827-ab8e-7fa7f7a94b73\",\"type\":\"GlyphRenderer\"},{\"id\":\"6e54af91-79f3-4221-b979-189fa893f1b3\",\"type\":\"GlyphRenderer\"},{\"id\":\"895747dd-ee18-47ae-820f-bb733bdd61c4\",\"type\":\"GlyphRenderer\"},{\"id\":\"13b96924-04d9-4343-9273-f50ca1475426\",\"type\":\"GlyphRenderer\"},{\"id\":\"00af8a0d-8ad6-433c-af9e-0ee665fc9323\",\"type\":\"GlyphRenderer\"},{\"id\":\"b9e8b1fc-24f5-461d-a961-15d2d0df7d37\",\"type\":\"GlyphRenderer\"},{\"id\":\"f91c6913-cdd3-4c9e-8d35-a91f102d5342\",\"type\":\"GlyphRenderer\"},{\"id\":\"25e6407f-1202-4e7b-ae39-4e789d1d4f6e\",\"type\":\"GlyphRenderer\"},{\"id\":\"5d8759a6-d5c0-456c-8f56-94ca3c03be3b\",\"type\":\"GlyphRenderer\"},{\"id\":\"e26d903c-6044-40b8-80aa-eb1ff51293bc\",\"type\":\"GlyphRenderer\"},{\"id\":\"d4fa1ccf-6011-4ec1-bad8-b091c60174d7\",\"type\":\"GlyphRenderer\"},{\"id\":\"c5a72add-0c2c-4cae-a345-2ed15a680b5c\",\"type\":\"GlyphRenderer\"},{\"id\":\"177fb709-6a7c-451c-849c-fc3236d5bc8c\",\"type\":\"GlyphRenderer\"},{\"id\":\"50c9eff6-63b0-4dcd-a449-085878696008\",\"type\":\"GlyphRenderer\"},{\"id\":\"3153efc1-d707-4499-a3b1-d213697a14ac\",\"type\":\"GlyphRenderer\"},{\"id\":\"e23e5539-62ed-48c7-b9a9-c9a25ed2096e\",\"type\":\"GlyphRenderer\"},{\"id\":\"08f082d7-64d4-433b-807a-59b7e7fccb7a\",\"type\":\"GlyphRenderer\"},{\"id\":\"a44d7a22-3c81-47dd-99d8-4abad7fa1f13\",\"type\":\"GlyphRenderer\"},{\"id\":\"9430f9ab-c5dc-4b20-a056-1969d448e446\",\"type\":\"GlyphRenderer\"},{\"id\":\"1f46d6fe-7438-465e-80f1-e0b331543633\",\"type\":\"GlyphRenderer\"},{\"id\":\"f7975b70-058d-4d19-a3bd-60674c7ce33f\",\"type\":\"GlyphRenderer\"},{\"id\":\"d5b51aa0-8f94-429c-bbb7-d0211c7415dc\",\"type\":\"CategoricalAxis\"},{\"id\":\"1c8c5f8a-0588-42fc-9dde-3d9ecb36c2cf\",\"type\":\"LinearAxis\"},{\"id\":\"17815dca-6e0c-4dc5-a47e-849c463af6a4\",\"type\":\"Grid\"}],\"title\":{\"id\":\"bcfaadd6-0da7-41ac-b198-c1be951ce246\",\"type\":\"Title\"},\"tool_events\":{\"id\":\"93fcd218-889d-45b9-8249-db2172c0ae51\",\"type\":\"ToolEvents\"},\"toolbar\":{\"id\":\"ad6c1e42-7a50-4d2d-9ab0-2f12ec5a6213\",\"type\":\"Toolbar\"},\"x_mapper_type\":\"auto\",\"x_range\":{\"id\":\"76fef79c-6658-45ec-a07b-262e6388064f\",\"type\":\"FactorRange\"},\"y_mapper_type\":\"auto\",\"y_range\":{\"id\":\"02a3874a-80cc-485d-a4a8-32b3a9d551ff\",\"type\":\"Range1d\"}},\"id\":\"ace47152-ccef-4692-af40-371a79ecc44e\",\"subtype\":\"Chart\",\"type\":\"Plot\"},{\"attributes\":{\"data_source\":{\"id\":\"960d28c7-8d74-4a32-a29e-9f7dac6f0219\",\"type\":\"ColumnDataSource\"},\"glyph\":{\"id\":\"5963015c-0092-4577-91af-dd1db552bacf\",\"type\":\"Rect\"},\"hover_glyph\":null,\"nonselection_glyph\":null,\"selection_glyph\":null},\"id\":\"00af8a0d-8ad6-433c-af9e-0ee665fc9323\",\"type\":\"GlyphRenderer\"},{\"attributes\":{\"fill_alpha\":{\"field\":\"fill_alpha\"},\"fill_color\":{\"field\":\"color\"},\"height\":{\"field\":\"height\",\"units\":\"data\"},\"line_color\":{\"field\":\"line_color\"},\"width\":{\"field\":\"width\",\"units\":\"data\"},\"x\":{\"field\":\"x\"},\"y\":{\"field\":\"y\"}},\"id\":\"e4833dfd-2474-4ca3-8885-e74a62a9784a\",\"type\":\"Rect\"},{\"attributes\":{\"callback\":null,\"column_names\":[\"x\",\"label\",\"width\",\"fill_alpha\",\"y\",\"line_color\",\"height\",\"line_alpha\",\"color\"],\"data\":{\"chart_index\":[{\"variable\":\"Svm\"}],\"color\":[\"#f22c40\"],\"fill_alpha\":[0.8],\"height\":[0.0031746031746031746],\"label\":[{\"variable\":\"Svm\"}],\"line_alpha\":[1.0],\"line_color\":[\"white\"],\"variable\":[\"Svm\"],\"width\":[0.8],\"x\":[\"Svm\"],\"y\":[0.0015873015873015873]}},\"id\":\"46013bba-335c-4109-878a-25940763734f\",\"type\":\"ColumnDataSource\"},{\"attributes\":{\"data_source\":{\"id\":\"b416167c-6d03-4277-bc96-b4afcb4b0f02\",\"type\":\"ColumnDataSource\"},\"glyph\":{\"id\":\"c925ae15-0553-4f80-9132-6a8b81a0fb58\",\"type\":\"Rect\"},\"hover_glyph\":null,\"nonselection_glyph\":null,\"selection_glyph\":null},\"id\":\"5d8759a6-d5c0-456c-8f56-94ca3c03be3b\",\"type\":\"GlyphRenderer\"},{\"attributes\":{\"fill_alpha\":{\"field\":\"fill_alpha\"},\"fill_color\":{\"field\":\"color\"},\"height\":{\"field\":\"height\",\"units\":\"data\"},\"line_color\":{\"field\":\"line_color\"},\"width\":{\"field\":\"width\",\"units\":\"data\"},\"x\":{\"field\":\"x\"},\"y\":{\"field\":\"y\"}},\"id\":\"c925ae15-0553-4f80-9132-6a8b81a0fb58\",\"type\":\"Rect\"},{\"attributes\":{\"data_source\":{\"id\":\"9e943b6f-8a08-4fcb-94b5-55c936212bac\",\"type\":\"ColumnDataSource\"},\"glyph\":{\"id\":\"8c125da1-4e3d-4dbd-a219-522ab0f30e20\",\"type\":\"Rect\"},\"hover_glyph\":null,\"nonselection_glyph\":null,\"selection_glyph\":null},\"id\":\"50c9eff6-63b0-4dcd-a449-085878696008\",\"type\":\"GlyphRenderer\"},{\"attributes\":{\"fill_alpha\":{\"field\":\"fill_alpha\"},\"fill_color\":{\"field\":\"color\"},\"height\":{\"field\":\"height\",\"units\":\"data\"},\"line_color\":{\"field\":\"line_color\"},\"width\":{\"field\":\"width\",\"units\":\"data\"},\"x\":{\"field\":\"x\"},\"y\":{\"field\":\"y\"}},\"id\":\"bf6e93f3-aa13-42ce-9012-42180d1a6d20\",\"type\":\"Rect\"},{\"attributes\":{\"data_source\":{\"id\":\"69ec6e08-1ab8-4e7d-9a5f-7c2fdab0735a\",\"type\":\"ColumnDataSource\"},\"glyph\":{\"id\":\"3487536b-4fca-453f-b492-6520ddfcd76f\",\"type\":\"Rect\"},\"hover_glyph\":null,\"nonselection_glyph\":null,\"selection_glyph\":null},\"id\":\"895747dd-ee18-47ae-820f-bb733bdd61c4\",\"type\":\"GlyphRenderer\"},{\"attributes\":{\"callback\":null,\"column_names\":[\"x\",\"label\",\"width\",\"fill_alpha\",\"y\",\"line_color\",\"height\",\"line_alpha\",\"color\"],\"data\":{\"chart_index\":[{\"variable\":\"\\u4eba\\u5de5\\u667a\\u6167\"}],\"color\":[\"#f22c40\"],\"fill_alpha\":[0.8],\"height\":[0.031746031746031744],\"label\":[{\"variable\":\"\\u4eba\\u5de5\\u667a\\u6167\"}],\"line_alpha\":[1.0],\"line_color\":[\"white\"],\"variable\":[\"\\u4eba\\u5de5\\u667a\\u6167\"],\"width\":[0.8],\"x\":[\"\\u4eba\\u5de5\\u667a\\u6167\"],\"y\":[0.015873015873015872]}},\"id\":\"d20e880a-b1b5-4efb-a384-05ab4587a834\",\"type\":\"ColumnDataSource\"},{\"attributes\":{\"callback\":null,\"column_names\":[\"x\",\"label\",\"width\",\"fill_alpha\",\"y\",\"line_color\",\"height\",\"line_alpha\",\"color\"],\"data\":{\"chart_index\":[{\"variable\":\"Nlp\"}],\"color\":[\"#f22c40\"],\"fill_alpha\":[0.8],\"height\":[0.009523809523809525],\"label\":[{\"variable\":\"Nlp\"}],\"line_alpha\":[1.0],\"line_color\":[\"white\"],\"variable\":[\"Nlp\"],\"width\":[0.8],\"x\":[\"Nlp\"],\"y\":[0.004761904761904762]}},\"id\":\"69ec6e08-1ab8-4e7d-9a5f-7c2fdab0735a\",\"type\":\"ColumnDataSource\"},{\"attributes\":{\"data_source\":{\"id\":\"a39fa4d2-e729-4292-9053-1b00ddeafed0\",\"type\":\"ColumnDataSource\"},\"glyph\":{\"id\":\"1947c4f5-7368-4a43-bfec-ef0a6e1aa616\",\"type\":\"Rect\"},\"hover_glyph\":null,\"nonselection_glyph\":null,\"selection_glyph\":null},\"id\":\"0ba6ee61-df64-424d-8513-02615a339a92\",\"type\":\"GlyphRenderer\"},{\"attributes\":{\"callback\":null,\"column_names\":[\"x\",\"label\",\"width\",\"fill_alpha\",\"y\",\"line_color\",\"height\",\"line_alpha\",\"color\"],\"data\":{\"chart_index\":[{\"variable\":\"Big Data\"}],\"color\":[\"#f22c40\"],\"fill_alpha\":[0.8],\"height\":[0.0873015873015873],\"label\":[{\"variable\":\"Big Data\"}],\"line_alpha\":[1.0],\"line_color\":[\"white\"],\"variable\":[\"Big Data\"],\"width\":[0.8],\"x\":[\"Big Data\"],\"y\":[0.04365079365079365]}},\"id\":\"c494c814-a886-4f3f-8dfe-ac71966d12f8\",\"type\":\"ColumnDataSource\"},{\"attributes\":{\"callback\":null,\"column_names\":[\"x\",\"label\",\"width\",\"fill_alpha\",\"y\",\"line_color\",\"height\",\"line_alpha\",\"color\"],\"data\":{\"chart_index\":[{\"variable\":\"\\u7d71\\u8a08\"}],\"color\":[\"#f22c40\"],\"fill_alpha\":[0.8],\"height\":[0.3873015873015873],\"label\":[{\"variable\":\"\\u7d71\\u8a08\"}],\"line_alpha\":[1.0],\"line_color\":[\"white\"],\"variable\":[\"\\u7d71\\u8a08\"],\"width\":[0.8],\"x\":[\"\\u7d71\\u8a08\"],\"y\":[0.19365079365079366]}},\"id\":\"c16762b0-3b8f-4551-9fc0-f9d05dc33233\",\"type\":\"ColumnDataSource\"},{\"attributes\":{\"data_source\":{\"id\":\"f86caa0d-074d-4404-b01f-c7378ef5b967\",\"type\":\"ColumnDataSource\"},\"glyph\":{\"id\":\"7ed821de-e898-4a20-af0d-92f528926ade\",\"type\":\"Rect\"},\"hover_glyph\":null,\"nonselection_glyph\":null,\"selection_glyph\":null},\"id\":\"96e8b476-f03b-4caa-80a8-2f7b378c8b33\",\"type\":\"GlyphRenderer\"},{\"attributes\":{},\"id\":\"93fcd218-889d-45b9-8249-db2172c0ae51\",\"type\":\"ToolEvents\"},{\"attributes\":{\"callback\":null,\"column_names\":[\"x\",\"label\",\"width\",\"fill_alpha\",\"y\",\"line_color\",\"height\",\"line_alpha\",\"color\"],\"data\":{\"chart_index\":[{\"variable\":\"\\u8cc7\\u6599\\u79d1\\u5b78\"}],\"color\":[\"#f22c40\"],\"fill_alpha\":[0.8],\"height\":[0.022222222222222223],\"label\":[{\"variable\":\"\\u8cc7\\u6599\\u79d1\\u5b78\"}],\"line_alpha\":[1.0],\"line_color\":[\"white\"],\"variable\":[\"\\u8cc7\\u6599\\u79d1\\u5b78\"],\"width\":[0.8],\"x\":[\"\\u8cc7\\u6599\\u79d1\\u5b78\"],\"y\":[0.011111111111111112]}},\"id\":\"fd98808a-0843-4502-96e6-332e5f2b988e\",\"type\":\"ColumnDataSource\"},{\"attributes\":{\"data_source\":{\"id\":\"0601989f-8b4b-475f-ab8e-188c37808258\",\"type\":\"ColumnDataSource\"},\"glyph\":{\"id\":\"43126bc2-539d-4919-b411-dd92f5548e0a\",\"type\":\"Rect\"},\"hover_glyph\":null,\"nonselection_glyph\":null,\"selection_glyph\":null},\"id\":\"e19d9b3a-2c4e-47c8-ac05-c97a5adaed18\",\"type\":\"GlyphRenderer\"},{\"attributes\":{\"fill_alpha\":{\"field\":\"fill_alpha\"},\"fill_color\":{\"field\":\"color\"},\"height\":{\"field\":\"height\",\"units\":\"data\"},\"line_color\":{\"field\":\"line_color\"},\"width\":{\"field\":\"width\",\"units\":\"data\"},\"x\":{\"field\":\"x\"},\"y\":{\"field\":\"y\"}},\"id\":\"507e7209-91d2-4ff6-9b88-81ddc11fa0a0\",\"type\":\"Rect\"},{\"attributes\":{\"callback\":null,\"column_names\":[\"x\",\"label\",\"width\",\"fill_alpha\",\"y\",\"line_color\",\"height\",\"line_alpha\",\"color\"],\"data\":{\"chart_index\":[{\"variable\":\"Decision Tree\"}],\"color\":[\"#f22c40\"],\"fill_alpha\":[0.8],\"height\":[0.0015873015873015873],\"label\":[{\"variable\":\"Decision Tree\"}],\"line_alpha\":[1.0],\"line_color\":[\"white\"],\"variable\":[\"Decision Tree\"],\"width\":[0.8],\"x\":[\"Decision Tree\"],\"y\":[0.0007936507936507937]}},\"id\":\"1d43e3ce-99ea-4ab4-a84c-3a170b418955\",\"type\":\"ColumnDataSource\"},{\"attributes\":{\"data_source\":{\"id\":\"c81eee32-a361-42fc-b54a-e79919d024e0\",\"type\":\"ColumnDataSource\"},\"glyph\":{\"id\":\"db21abb9-1df4-4ab6-ad89-938582271dd6\",\"type\":\"Rect\"},\"hover_glyph\":null,\"nonselection_glyph\":null,\"selection_glyph\":null},\"id\":\"a44d7a22-3c81-47dd-99d8-4abad7fa1f13\",\"type\":\"GlyphRenderer\"},{\"attributes\":{\"callback\":null,\"column_names\":[\"x\",\"label\",\"width\",\"fill_alpha\",\"y\",\"line_color\",\"height\",\"line_alpha\",\"color\"],\"data\":{\"chart_index\":[{\"variable\":\"\\u6587\\u5b57\\u63a2\\u52d8\"}],\"color\":[\"#f22c40\"],\"fill_alpha\":[0.8],\"height\":[0.014285714285714285],\"label\":[{\"variable\":\"\\u6587\\u5b57\\u63a2\\u52d8\"}],\"line_alpha\":[1.0],\"line_color\":[\"white\"],\"variable\":[\"\\u6587\\u5b57\\u63a2\\u52d8\"],\"width\":[0.8],\"x\":[\"\\u6587\\u5b57\\u63a2\\u52d8\"],\"y\":[0.007142857142857143]}},\"id\":\"a39fa4d2-e729-4292-9053-1b00ddeafed0\",\"type\":\"ColumnDataSource\"},{\"attributes\":{\"data_source\":{\"id\":\"3d2145a4-ae28-4b57-81ef-325f7792b204\",\"type\":\"ColumnDataSource\"},\"glyph\":{\"id\":\"a3cf5504-533f-4ff6-8135-84ee1ea30600\",\"type\":\"Rect\"},\"hover_glyph\":null,\"nonselection_glyph\":null,\"selection_glyph\":null},\"id\":\"25e6407f-1202-4e7b-ae39-4e789d1d4f6e\",\"type\":\"GlyphRenderer\"},{\"attributes\":{\"callback\":null,\"column_names\":[\"x\",\"label\",\"width\",\"fill_alpha\",\"y\",\"line_color\",\"height\",\"line_alpha\",\"color\"],\"data\":{\"chart_index\":[{\"variable\":\"\\u5546\\u6a5f\\u5206\\u6790\"}],\"color\":[\"#f22c40\"],\"fill_alpha\":[0.8],\"height\":[0.004761904761904762],\"label\":[{\"variable\":\"\\u5546\\u6a5f\\u5206\\u6790\"}],\"line_alpha\":[1.0],\"line_color\":[\"white\"],\"variable\":[\"\\u5546\\u6a5f\\u5206\\u6790\"],\"width\":[0.8],\"x\":[\"\\u5546\\u6a5f\\u5206\\u6790\"],\"y\":[0.002380952380952381]}},\"id\":\"3d2145a4-ae28-4b57-81ef-325f7792b204\",\"type\":\"ColumnDataSource\"},{\"attributes\":{\"fill_alpha\":{\"field\":\"fill_alpha\"},\"fill_color\":{\"field\":\"color\"},\"height\":{\"field\":\"height\",\"units\":\"data\"},\"line_color\":{\"field\":\"line_color\"},\"width\":{\"field\":\"width\",\"units\":\"data\"},\"x\":{\"field\":\"x\"},\"y\":{\"field\":\"y\"}},\"id\":\"7a047e5b-e3a6-4402-8ec7-776667c7ade4\",\"type\":\"Rect\"},{\"attributes\":{\"fill_alpha\":{\"field\":\"fill_alpha\"},\"fill_color\":{\"field\":\"color\"},\"height\":{\"field\":\"height\",\"units\":\"data\"},\"line_color\":{\"field\":\"line_color\"},\"width\":{\"field\":\"width\",\"units\":\"data\"},\"x\":{\"field\":\"x\"},\"y\":{\"field\":\"y\"}},\"id\":\"dd9387b6-67be-4b52-b8d2-e2388b7978bd\",\"type\":\"Rect\"},{\"attributes\":{\"data_source\":{\"id\":\"af7fa564-6b3d-46ff-9537-21e53b723950\",\"type\":\"ColumnDataSource\"},\"glyph\":{\"id\":\"9f0d998d-3489-4882-bd82-c57d0ec53374\",\"type\":\"Rect\"},\"hover_glyph\":null,\"nonselection_glyph\":null,\"selection_glyph\":null},\"id\":\"bd9d3ef0-fdfe-417c-aaf8-475ce03e0cf2\",\"type\":\"GlyphRenderer\"},{\"attributes\":{\"fill_alpha\":{\"field\":\"fill_alpha\"},\"fill_color\":{\"field\":\"color\"},\"height\":{\"field\":\"height\",\"units\":\"data\"},\"line_color\":{\"field\":\"line_color\"},\"width\":{\"field\":\"width\",\"units\":\"data\"},\"x\":{\"field\":\"x\"},\"y\":{\"field\":\"y\"}},\"id\":\"4d156caf-0f2a-4b3c-9a69-83ee4d774145\",\"type\":\"Rect\"},{\"attributes\":{\"data_source\":{\"id\":\"2d9e3b0a-0343-45d4-b3cd-f64ca3ea3e51\",\"type\":\"ColumnDataSource\"},\"glyph\":{\"id\":\"4d156caf-0f2a-4b3c-9a69-83ee4d774145\",\"type\":\"Rect\"},\"hover_glyph\":null,\"nonselection_glyph\":null,\"selection_glyph\":null},\"id\":\"5b0db3c2-a791-424e-ace6-bc5a74cf0650\",\"type\":\"GlyphRenderer\"},{\"attributes\":{\"data_source\":{\"id\":\"dfb8c9e5-aafb-43c2-a842-d26a928a91f1\",\"type\":\"ColumnDataSource\"},\"glyph\":{\"id\":\"7f916fa4-51cc-40e8-863a-16a1570f9600\",\"type\":\"Rect\"},\"hover_glyph\":null,\"nonselection_glyph\":null,\"selection_glyph\":null},\"id\":\"30116872-edd3-4bb1-b138-a1839a3eb71b\",\"type\":\"GlyphRenderer\"},{\"attributes\":{\"fill_alpha\":{\"field\":\"fill_alpha\"},\"fill_color\":{\"field\":\"color\"},\"height\":{\"field\":\"height\",\"units\":\"data\"},\"line_color\":{\"field\":\"line_color\"},\"width\":{\"field\":\"width\",\"units\":\"data\"},\"x\":{\"field\":\"x\"},\"y\":{\"field\":\"y\"}},\"id\":\"e42eb363-9f01-4522-90f8-7854cdbcb926\",\"type\":\"Rect\"},{\"attributes\":{\"callback\":null,\"column_names\":[\"x\",\"label\",\"width\",\"fill_alpha\",\"y\",\"line_color\",\"height\",\"line_alpha\",\"color\"],\"data\":{\"chart_index\":[{\"variable\":\"\\u5efa\\u6a21\"}],\"color\":[\"#f22c40\"],\"fill_alpha\":[0.8],\"height\":[0.05714285714285714],\"label\":[{\"variable\":\"\\u5efa\\u6a21\"}],\"line_alpha\":[1.0],\"line_color\":[\"white\"],\"variable\":[\"\\u5efa\\u6a21\"],\"width\":[0.8],\"x\":[\"\\u5efa\\u6a21\"],\"y\":[0.02857142857142857]}},\"id\":\"a45fe1d2-3f5e-406f-924c-9716ef9da2bf\",\"type\":\"ColumnDataSource\"},{\"attributes\":{\"data_source\":{\"id\":\"e2018b39-4a89-48d4-834e-ac5e2ba09152\",\"type\":\"ColumnDataSource\"},\"glyph\":{\"id\":\"38b2593c-f1ee-4646-a8f4-1eaaf1cb1239\",\"type\":\"Rect\"},\"hover_glyph\":null,\"nonselection_glyph\":null,\"selection_glyph\":null},\"id\":\"9430f9ab-c5dc-4b20-a056-1969d448e446\",\"type\":\"GlyphRenderer\"},{\"attributes\":{\"plot\":{\"id\":\"ace47152-ccef-4692-af40-371a79ecc44e\",\"subtype\":\"Chart\",\"type\":\"Plot\"}},\"id\":\"14cb7560-a5cf-46e0-b06d-80e4f90f680a\",\"type\":\"PanTool\"},{\"attributes\":{\"fill_alpha\":{\"field\":\"fill_alpha\"},\"fill_color\":{\"field\":\"color\"},\"height\":{\"field\":\"height\",\"units\":\"data\"},\"line_color\":{\"field\":\"line_color\"},\"width\":{\"field\":\"width\",\"units\":\"data\"},\"x\":{\"field\":\"x\"},\"y\":{\"field\":\"y\"}},\"id\":\"72fc3089-081b-4554-a3e6-ec3944d6999f\",\"type\":\"Rect\"},{\"attributes\":{\"bottom_units\":\"screen\",\"fill_alpha\":{\"value\":0.5},\"fill_color\":{\"value\":\"lightgrey\"},\"left_units\":\"screen\",\"level\":\"overlay\",\"line_alpha\":{\"value\":1.0},\"line_color\":{\"value\":\"black\"},\"line_dash\":[4,4],\"line_width\":{\"value\":2},\"plot\":null,\"render_mode\":\"css\",\"right_units\":\"screen\",\"top_units\":\"screen\"},\"id\":\"bafac01b-6afc-4322-b3bf-50f722e491b7\",\"type\":\"BoxAnnotation\"},{\"attributes\":{\"callback\":null,\"column_names\":[\"x\",\"label\",\"width\",\"fill_alpha\",\"y\",\"line_color\",\"height\",\"line_alpha\",\"color\"],\"data\":{\"chart_index\":[{\"variable\":\"\\u8cc7\\u6599\\u5206\\u6790\"}],\"color\":[\"#f22c40\"],\"fill_alpha\":[0.8],\"height\":[0.42698412698412697],\"label\":[{\"variable\":\"\\u8cc7\\u6599\\u5206\\u6790\"}],\"line_alpha\":[1.0],\"line_color\":[\"white\"],\"variable\":[\"\\u8cc7\\u6599\\u5206\\u6790\"],\"width\":[0.8],\"x\":[\"\\u8cc7\\u6599\\u5206\\u6790\"],\"y\":[0.21349206349206348]}},\"id\":\"f86caa0d-074d-4404-b01f-c7378ef5b967\",\"type\":\"ColumnDataSource\"},{\"attributes\":{\"callback\":null,\"column_names\":[\"x\",\"label\",\"width\",\"fill_alpha\",\"y\",\"line_color\",\"height\",\"line_alpha\",\"color\"],\"data\":{\"chart_index\":[{\"variable\":\"A/B\"}],\"color\":[\"#f22c40\"],\"fill_alpha\":[0.8],\"height\":[0.004761904761904762],\"label\":[{\"variable\":\"A/B\"}],\"line_alpha\":[1.0],\"line_color\":[\"white\"],\"variable\":[\"A/B\"],\"width\":[0.8],\"x\":[\"A/B\"],\"y\":[0.002380952380952381]}},\"id\":\"658a3578-464d-4425-9eaf-29f2f9d20463\",\"type\":\"ColumnDataSource\"},{\"attributes\":{\"fill_alpha\":{\"field\":\"fill_alpha\"},\"fill_color\":{\"field\":\"color\"},\"height\":{\"field\":\"height\",\"units\":\"data\"},\"line_color\":{\"field\":\"line_color\"},\"width\":{\"field\":\"width\",\"units\":\"data\"},\"x\":{\"field\":\"x\"},\"y\":{\"field\":\"y\"}},\"id\":\"b4fec4c3-362f-4d70-ae1f-0b78eb1471b8\",\"type\":\"Rect\"},{\"attributes\":{\"fill_alpha\":{\"field\":\"fill_alpha\"},\"fill_color\":{\"field\":\"color\"},\"height\":{\"field\":\"height\",\"units\":\"data\"},\"line_color\":{\"field\":\"line_color\"},\"width\":{\"field\":\"width\",\"units\":\"data\"},\"x\":{\"field\":\"x\"},\"y\":{\"field\":\"y\"}},\"id\":\"0677cdf5-d730-4620-8f38-e2aa5e41cebe\",\"type\":\"Rect\"},{\"attributes\":{\"fill_alpha\":{\"field\":\"fill_alpha\"},\"fill_color\":{\"field\":\"color\"},\"height\":{\"field\":\"height\",\"units\":\"data\"},\"line_color\":{\"field\":\"line_color\"},\"width\":{\"field\":\"width\",\"units\":\"data\"},\"x\":{\"field\":\"x\"},\"y\":{\"field\":\"y\"}},\"id\":\"a3cf5504-533f-4ff6-8135-84ee1ea30600\",\"type\":\"Rect\"},{\"attributes\":{\"data_source\":{\"id\":\"bf0fe337-f58f-41c1-b1b1-408b6bdef32a\",\"type\":\"ColumnDataSource\"},\"glyph\":{\"id\":\"c0bf5799-1699-4a19-90ab-7374efc69fb5\",\"type\":\"Rect\"},\"hover_glyph\":null,\"nonselection_glyph\":null,\"selection_glyph\":null},\"id\":\"d4fa1ccf-6011-4ec1-bad8-b091c60174d7\",\"type\":\"GlyphRenderer\"},{\"attributes\":{\"fill_alpha\":{\"field\":\"fill_alpha\"},\"fill_color\":{\"field\":\"color\"},\"height\":{\"field\":\"height\",\"units\":\"data\"},\"line_color\":{\"field\":\"line_color\"},\"width\":{\"field\":\"width\",\"units\":\"data\"},\"x\":{\"field\":\"x\"},\"y\":{\"field\":\"y\"}},\"id\":\"db21abb9-1df4-4ab6-ad89-938582271dd6\",\"type\":\"Rect\"},{\"attributes\":{\"fill_alpha\":{\"field\":\"fill_alpha\"},\"fill_color\":{\"field\":\"color\"},\"height\":{\"field\":\"height\",\"units\":\"data\"},\"line_color\":{\"field\":\"line_color\"},\"width\":{\"field\":\"width\",\"units\":\"data\"},\"x\":{\"field\":\"x\"},\"y\":{\"field\":\"y\"}},\"id\":\"7f916fa4-51cc-40e8-863a-16a1570f9600\",\"type\":\"Rect\"},{\"attributes\":{\"fill_alpha\":{\"field\":\"fill_alpha\"},\"fill_color\":{\"field\":\"color\"},\"height\":{\"field\":\"height\",\"units\":\"data\"},\"line_color\":{\"field\":\"line_color\"},\"width\":{\"field\":\"width\",\"units\":\"data\"},\"x\":{\"field\":\"x\"},\"y\":{\"field\":\"y\"}},\"id\":\"5963015c-0092-4577-91af-dd1db552bacf\",\"type\":\"Rect\"},{\"attributes\":{\"data_source\":{\"id\":\"6ec4e490-71f5-4adb-b0a9-cbf34555d11b\",\"type\":\"ColumnDataSource\"},\"glyph\":{\"id\":\"ecdb7037-3d33-4f43-95d4-8a4d81899d89\",\"type\":\"Rect\"},\"hover_glyph\":null,\"nonselection_glyph\":null,\"selection_glyph\":null},\"id\":\"4a4e383a-1e44-4cb7-99b2-3fbf23e326d4\",\"type\":\"GlyphRenderer\"},{\"attributes\":{\"fill_alpha\":{\"field\":\"fill_alpha\"},\"fill_color\":{\"field\":\"color\"},\"height\":{\"field\":\"height\",\"units\":\"data\"},\"line_color\":{\"field\":\"line_color\"},\"width\":{\"field\":\"width\",\"units\":\"data\"},\"x\":{\"field\":\"x\"},\"y\":{\"field\":\"y\"}},\"id\":\"8c125da1-4e3d-4dbd-a219-522ab0f30e20\",\"type\":\"Rect\"},{\"attributes\":{\"callback\":null,\"column_names\":[\"x\",\"label\",\"width\",\"fill_alpha\",\"y\",\"line_color\",\"height\",\"line_alpha\",\"color\"],\"data\":{\"chart_index\":[{\"variable\":\"Deep Learning\"}],\"color\":[\"#f22c40\"],\"fill_alpha\":[0.8],\"height\":[0.007936507936507936],\"label\":[{\"variable\":\"Deep Learning\"}],\"line_alpha\":[1.0],\"line_color\":[\"white\"],\"variable\":[\"Deep Learning\"],\"width\":[0.8],\"x\":[\"Deep Learning\"],\"y\":[0.003968253968253968]}},\"id\":\"960d28c7-8d74-4a32-a29e-9f7dac6f0219\",\"type\":\"ColumnDataSource\"},{\"attributes\":{\"data_source\":{\"id\":\"8cf3f854-53a0-45cc-a321-0254c42279dd\",\"type\":\"ColumnDataSource\"},\"glyph\":{\"id\":\"96364020-3cdf-4b15-8e03-47974c1714df\",\"type\":\"Rect\"},\"hover_glyph\":null,\"nonselection_glyph\":null,\"selection_glyph\":null},\"id\":\"6e54af91-79f3-4221-b979-189fa893f1b3\",\"type\":\"GlyphRenderer\"},{\"attributes\":{\"fill_alpha\":{\"field\":\"fill_alpha\"},\"fill_color\":{\"field\":\"color\"},\"height\":{\"field\":\"height\",\"units\":\"data\"},\"line_color\":{\"field\":\"line_color\"},\"width\":{\"field\":\"width\",\"units\":\"data\"},\"x\":{\"field\":\"x\"},\"y\":{\"field\":\"y\"}},\"id\":\"3773db13-b0d1-4f6a-ba9e-12167b26d7ea\",\"type\":\"Rect\"},{\"attributes\":{\"callback\":null,\"column_names\":[\"x\",\"label\",\"width\",\"fill_alpha\",\"y\",\"line_color\",\"height\",\"line_alpha\",\"color\"],\"data\":{\"chart_index\":[{\"variable\":\"\\u6df1\\u5ea6\\u5b78\\u7fd2\"}],\"color\":[\"#f22c40\"],\"fill_alpha\":[0.8],\"height\":[0.009523809523809525],\"label\":[{\"variable\":\"\\u6df1\\u5ea6\\u5b78\\u7fd2\"}],\"line_alpha\":[1.0],\"line_color\":[\"white\"],\"variable\":[\"\\u6df1\\u5ea6\\u5b78\\u7fd2\"],\"width\":[0.8],\"x\":[\"\\u6df1\\u5ea6\\u5b78\\u7fd2\"],\"y\":[0.004761904761904762]}},\"id\":\"dc397ac2-4706-447e-b34e-12ab95012091\",\"type\":\"ColumnDataSource\"},{\"attributes\":{\"fill_alpha\":{\"field\":\"fill_alpha\"},\"fill_color\":{\"field\":\"color\"},\"height\":{\"field\":\"height\",\"units\":\"data\"},\"line_color\":{\"field\":\"line_color\"},\"width\":{\"field\":\"width\",\"units\":\"data\"},\"x\":{\"field\":\"x\"},\"y\":{\"field\":\"y\"}},\"id\":\"ecdb7037-3d33-4f43-95d4-8a4d81899d89\",\"type\":\"Rect\"},{\"attributes\":{\"fill_alpha\":{\"field\":\"fill_alpha\"},\"fill_color\":{\"field\":\"color\"},\"height\":{\"field\":\"height\",\"units\":\"data\"},\"line_color\":{\"field\":\"line_color\"},\"width\":{\"field\":\"width\",\"units\":\"data\"},\"x\":{\"field\":\"x\"},\"y\":{\"field\":\"y\"}},\"id\":\"c0bf5799-1699-4a19-90ab-7374efc69fb5\",\"type\":\"Rect\"},{\"attributes\":{\"data_source\":{\"id\":\"26f5d704-4ade-41c1-b30d-5e1174c782bf\",\"type\":\"ColumnDataSource\"},\"glyph\":{\"id\":\"37efb00a-fcc1-4805-80ee-c1d7ebbf7238\",\"type\":\"Rect\"},\"hover_glyph\":null,\"nonselection_glyph\":null,\"selection_glyph\":null},\"id\":\"f7975b70-058d-4d19-a3bd-60674c7ce33f\",\"type\":\"GlyphRenderer\"},{\"attributes\":{\"data_source\":{\"id\":\"c494c814-a886-4f3f-8dfe-ac71966d12f8\",\"type\":\"ColumnDataSource\"},\"glyph\":{\"id\":\"bf6e93f3-aa13-42ce-9012-42180d1a6d20\",\"type\":\"Rect\"},\"hover_glyph\":null,\"nonselection_glyph\":null,\"selection_glyph\":null},\"id\":\"aa3467df-9cfa-49bc-a8e5-cef2a2e77184\",\"type\":\"GlyphRenderer\"},{\"attributes\":{\"callback\":null,\"column_names\":[\"x\",\"label\",\"width\",\"fill_alpha\",\"y\",\"line_color\",\"height\",\"line_alpha\",\"color\"],\"data\":{\"chart_index\":[{\"variable\":\"Bi\"}],\"color\":[\"#f22c40\"],\"fill_alpha\":[0.8],\"height\":[0.16031746031746033],\"label\":[{\"variable\":\"Bi\"}],\"line_alpha\":[1.0],\"line_color\":[\"white\"],\"variable\":[\"Bi\"],\"width\":[0.8],\"x\":[\"Bi\"],\"y\":[0.08015873015873017]}},\"id\":\"915fc27e-ba31-43a8-8d7a-6c2c36245257\",\"type\":\"ColumnDataSource\"},{\"attributes\":{\"active_drag\":\"auto\",\"active_scroll\":\"auto\",\"active_tap\":\"auto\",\"tools\":[{\"id\":\"14cb7560-a5cf-46e0-b06d-80e4f90f680a\",\"type\":\"PanTool\"},{\"id\":\"659ce7e1-ed9f-40a6-b66d-c87a5ef62282\",\"type\":\"WheelZoomTool\"},{\"id\":\"d1f9cf02-94df-4c67-a3a9-b323ea955cbb\",\"type\":\"BoxZoomTool\"},{\"id\":\"32331e4d-fa05-4914-b036-7015fa0ffa8f\",\"type\":\"SaveTool\"},{\"id\":\"0c729b84-cec2-47c3-99a9-467b62db92ba\",\"type\":\"ResetTool\"},{\"id\":\"4ddfe492-8d82-4b13-af9f-3e43e7fcefb6\",\"type\":\"HelpTool\"}]},\"id\":\"ad6c1e42-7a50-4d2d-9ab0-2f12ec5a6213\",\"type\":\"Toolbar\"},{\"attributes\":{\"axis_label\":\"Variable\",\"formatter\":{\"id\":\"6765237a-933e-4d41-8a7b-2374f5835542\",\"type\":\"CategoricalTickFormatter\"},\"major_label_orientation\":0.7853981633974483,\"plot\":{\"id\":\"ace47152-ccef-4692-af40-371a79ecc44e\",\"subtype\":\"Chart\",\"type\":\"Plot\"},\"ticker\":{\"id\":\"74af7656-42a8-4e93-a2c7-54709ef91f28\",\"type\":\"CategoricalTicker\"}},\"id\":\"d5b51aa0-8f94-429c-bbb7-d0211c7415dc\",\"type\":\"CategoricalAxis\"},{\"attributes\":{\"data_source\":{\"id\":\"2fcf8598-9366-475e-a250-716332c6177d\",\"type\":\"ColumnDataSource\"},\"glyph\":{\"id\":\"937a4268-6b24-47f3-9daa-ead237354883\",\"type\":\"Rect\"},\"hover_glyph\":null,\"nonselection_glyph\":null,\"selection_glyph\":null},\"id\":\"177fb709-6a7c-451c-849c-fc3236d5bc8c\",\"type\":\"GlyphRenderer\"}],\"root_ids\":[\"ace47152-ccef-4692-af40-371a79ecc44e\"]},\"title\":\"Bokeh Application\",\"version\":\"0.12.1\"}};\n",
       "            var render_items = [{\"docid\":\"ec939ba2-5867-41bc-bf17-50db9dc749a7\",\"elementid\":\"e23010f6-64b2-4ebb-bc8b-67096c5f846c\",\"modelid\":\"ace47152-ccef-4692-af40-371a79ecc44e\",\"notebook_comms_target\":\"17dbf687-b9e3-44eb-b8e2-f5043a4455b7\"}];\n",
       "            \n",
       "            Bokeh.embed.embed_items(docs_json, render_items);\n",
       "        });\n",
       "      },\n",
       "      function(Bokeh) {\n",
       "      }\n",
       "    ];\n",
       "  \n",
       "    function run_inline_js() {\n",
       "      for (var i = 0; i < inline_js.length; i++) {\n",
       "        inline_js[i](window.Bokeh);\n",
       "      }\n",
       "    }\n",
       "  \n",
       "    if (window._bokeh_is_loading === 0) {\n",
       "      console.log(\"Bokeh: BokehJS loaded, going straight to plotting\");\n",
       "      run_inline_js();\n",
       "    } else {\n",
       "      load_libs(js_urls, function() {\n",
       "        console.log(\"Bokeh: BokehJS plotting callback run at\", now());\n",
       "        run_inline_js();\n",
       "      });\n",
       "    }\n",
       "  }(this));\n",
       "</script>"
      ]
     },
     "metadata": {},
     "output_type": "display_data"
    },
    {
     "data": {
      "text/html": [
       "<p><code>&lt;Bokeh Notebook handle for <strong>In[345]</strong>&gt;</code></p>"
      ],
      "text/plain": [
       "<bokeh.io._CommsHandle at 0x15fb8dd8>"
      ]
     },
     "execution_count": 345,
     "metadata": {},
     "output_type": "execute_result"
    }
   ],
   "source": [
    "p = Bar(job_mean, 'variable', values='mean', title=\"Total MPG by CYL\",legend=False,plot_width=2000, plot_height=300)\n",
    "show(p)"
   ]
  },
  {
   "cell_type": "code",
   "execution_count": 33,
   "metadata": {},
   "outputs": [],
   "source": [
    "code_corr = code_frame.corr()"
   ]
  },
  {
   "cell_type": "code",
   "execution_count": 35,
   "metadata": {},
   "outputs": [
    {
     "data": {
      "image/png": "[encoded data removed]",
      "text/plain": [
       "<matplotlib.figure.Figure at 0x961e978>"
      ]
     },
     "metadata": {},
     "output_type": "display_data"
    }
   ],
   "source": [
    "fig, ax = plt.subplots(figsize=(12,12))  \n",
    "ax = sns.heatmap(code_corr, vmax=.6, square=True)"
   ]
  },
  {
   "cell_type": "code",
   "execution_count": 90,
   "metadata": {
    "collapsed": true
   },
   "outputs": [],
   "source": [
    "py.sign_in('jeff15388', 'XJU6HsE4uIE3KJcOPge0')"
   ]
  },
  {
   "cell_type": "code",
   "execution_count": 159,
   "metadata": {},
   "outputs": [
    {
     "data": {
      "text/html": [
       "<iframe id=\"igraph\" scrolling=\"no\" style=\"border:none;\" seamless=\"seamless\" src=\"https://plot.ly/~jeff15388/2.embed\" height=\"525px\" width=\"100%\"></iframe>"
      ],
      "text/plain": [
       "<plotly.tools.PlotlyDisplay object>"
      ]
     },
     "execution_count": 159,
     "metadata": {},
     "output_type": "execute_result"
    }
   ],
   "source": [
    "gragh = [go.Heatmap(z = code_corr.values.tolist())]\n",
    "py.iplot(gragh)"
   ]
  },
  {
   "cell_type": "code",
   "execution_count": 23,
   "metadata": {
    "collapsed": true
   },
   "outputs": [],
   "source": [
    "code_corr.to_csv(DATA_DIR+'code_corr.csv',encoding='utf-8')"
   ]
  },
  {
   "cell_type": "code",
   "execution_count": 63,
   "metadata": {
    "collapsed": true
   },
   "outputs": [],
   "source": [
    "def degree_filter(x):\n",
    "    if '博士' in x:\n",
    "        return 'doctor'\n",
    "    else:\n",
    "        if '碩士' in x:\n",
    "            return 'master'\n",
    "        else:\n",
    "            if '大學' in x:\n",
    "                return 'college'\n",
    "            else:\n",
    "                return 'No limit'"
   ]
  },
  {
   "cell_type": "code",
   "execution_count": 76,
   "metadata": {},
   "outputs": [
    {
     "name": "stderr",
     "output_type": "stream",
     "text": [
      "C:\\Users\\GN1504301\\Anaconda3\\lib\\site-packages\\ipykernel\\__main__.py:1: SettingWithCopyWarning: \n",
      "A value is trying to be set on a copy of a slice from a DataFrame.\n",
      "Try using .loc[row_indexer,col_indexer] = value instead\n",
      "\n",
      "See the caveats in the documentation: http://pandas.pydata.org/pandas-docs/stable/indexing.html#indexing-view-versus-copy\n",
      "  if __name__ == '__main__':\n"
     ]
    }
   ],
   "source": [
    "data_code['degree_categorical'] = data_code['degree'].apply(degree_filter)"
   ]
  },
  {
   "cell_type": "code",
   "execution_count": 80,
   "metadata": {},
   "outputs": [
    {
     "data": {
      "text/plain": [
       "degree_categorical\n",
       "No limit    175\n",
       "college     312\n",
       "doctor        8\n",
       "master      456\n",
       "Name: index, dtype: int64"
      ]
     },
     "execution_count": 80,
     "metadata": {},
     "output_type": "execute_result"
    }
   ],
   "source": [
    "data_code.groupby('degree_categorical')['index'].count()"
   ]
  },
  {
   "cell_type": "code",
   "execution_count": null,
   "metadata": {
    "collapsed": true
   },
   "outputs": [],
   "source": []
  }
 ],
 "metadata": {
  "kernelspec": {
   "display_name": "Python 3",
   "language": "python",
   "name": "python3"
  },
  "language_info": {
   "codemirror_mode": {
    "name": "ipython",
    "version": 3
   },
   "file_extension": ".py",
   "mimetype": "text/x-python",
   "name": "python",
   "nbconvert_exporter": "python",
   "pygments_lexer": "ipython3",
   "version": "3.6.1"
  }
 },
 "nbformat": 4,
 "nbformat_minor": 1
}
